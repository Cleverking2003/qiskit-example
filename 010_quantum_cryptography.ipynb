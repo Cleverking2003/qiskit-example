{
 "cells": [
  {
   "cell_type": "code",
   "execution_count": null,
   "outputs": [],
   "source": [
    "from qiskit import QuantumCircuit, transpile, Aer, execute\n",
    "from qiskit.visualization import plot_histogram\n",
    "import matplotlib.pyplot as plt\n",
    "from qiskit.circuit.library import GroverOperator\n",
    "from qiskit.algorithms import Shor\n",
    "from qiskit.utils import QuantumInstance\n",
    "from qiskit.circuit import QuantumRegister, ClassicalRegister\n",
    "import random"
   ],
   "metadata": {
    "collapsed": false
   }
  },
  {
   "cell_type": "code",
   "execution_count": null,
   "outputs": [],
   "source": [
    "# Генерация случайного ключа\n",
    "def generate_key(length):\n",
    "    return [random.choice([0, 1]) for _ in range(length)]\n",
    "\n",
    "# Случайные базы для Алисы и Боба\n",
    "alice_bases = generate_key(10)\n",
    "bob_bases = generate_key(10)\n",
    "\n",
    "# Генерация квантовой цепи\n",
    "key_bits = generate_key(10)\n",
    "qc_list = []\n",
    "for i in range(10):\n",
    "    qc = QuantumCircuit(1, 1)\n",
    "    if alice_bases[i] == 1:\n",
    "        qc.h(0)\n",
    "    if key_bits[i] == 1:\n",
    "        qc.x(0)\n",
    "    if bob_bases[i] == 1:\n",
    "        qc.h(0)\n",
    "    qc.measure(0, 0)\n",
    "    qc_list.append(qc)\n",
    "\n",
    "# Результаты передаются для последующей проверки совпадений базисов\n",
    "# Здесь можно включить этап симуляции с передачей и сравнением\n"
   ],
   "metadata": {
    "collapsed": false
   }
  }
 ],
 "metadata": {
  "kernelspec": {
   "display_name": "Python 3",
   "language": "python",
   "name": "python3"
  },
  "language_info": {
   "codemirror_mode": {
    "name": "ipython",
    "version": 2
   },
   "file_extension": ".py",
   "mimetype": "text/x-python",
   "name": "python",
   "nbconvert_exporter": "python",
   "pygments_lexer": "ipython2",
   "version": "2.7.6"
  }
 },
 "nbformat": 4,
 "nbformat_minor": 0
}
