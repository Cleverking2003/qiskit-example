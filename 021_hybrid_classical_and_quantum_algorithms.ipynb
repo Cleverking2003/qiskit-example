{
 "cells": [
  {
   "cell_type": "code",
   "execution_count": 10,
   "outputs": [],
   "source": [
    "from qiskit import Aer\n",
    "from qiskit.circuit.library import ZZFeatureMap\n",
    "from qiskit_machine_learning.kernels import QuantumKernel\n",
    "from qiskit_machine_learning.algorithms import QSVC\n",
    "from sklearn.datasets import make_moons\n",
    "from sklearn.model_selection import train_test_split\n",
    "from sklearn.preprocessing import StandardScaler\n",
    "import matplotlib.pyplot as plt"
   ],
   "metadata": {
    "collapsed": false,
    "ExecuteTime": {
     "end_time": "2024-10-31T10:49:02.058033300Z",
     "start_time": "2024-10-31T10:49:02.049502500Z"
    }
   }
  },
  {
   "cell_type": "code",
   "execution_count": 12,
   "metadata": {
    "collapsed": true,
    "ExecuteTime": {
     "end_time": "2024-10-31T10:49:27.475039200Z",
     "start_time": "2024-10-31T10:49:26.952883300Z"
    }
   },
   "outputs": [
    {
     "name": "stdout",
     "output_type": "stream",
     "text": [
      "Квантовая карта признаков:\n"
     ]
    },
    {
     "data": {
      "text/plain": "<Figure size 370.906x200.667 with 1 Axes>",
      "image/png": "[encoded data removed]"
     },
     "execution_count": 12,
     "metadata": {},
     "output_type": "execute_result"
    }
   ],
   "source": [
    "# Подготовка данных\n",
    "X, y = make_moons(n_samples=100, noise=0.2)\n",
    "X_train, X_test, y_train, y_test = train_test_split(X, y, test_size=0.2, random_state=42)\n",
    "\n",
    "# Предобработка данных\n",
    "scaler = StandardScaler()\n",
    "X_train = scaler.fit_transform(X_train)\n",
    "X_test = scaler.transform(X_test)\n",
    "\n",
    "# Определяем квантовую карту признаков\n",
    "feature_map = ZZFeatureMap(feature_dimension=2, reps=2)\n",
    "\n",
    "# Визуализация квантовой карты признаков\n",
    "print(\"Квантовая карта признаков:\")\n",
    "feature_map.draw(\"mpl\")"
   ]
  },
  {
   "cell_type": "code",
   "execution_count": 13,
   "outputs": [
    {
     "name": "stdout",
     "output_type": "stream",
     "text": [
      "Точность квантового SVC: 0.65\n"
     ]
    }
   ],
   "source": [
    "# Определяем квантовое ядро\n",
    "quantum_kernel = QuantumKernel(feature_map=feature_map, quantum_instance=Aer.get_backend('statevector_simulator'))\n",
    "\n",
    "# Квантовый классификатор SVC\n",
    "qsvc = QSVC(quantum_kernel=quantum_kernel)\n",
    "\n",
    "# Обучение модели\n",
    "qsvc.fit(X_train, y_train)\n",
    "\n",
    "# Оценка модели\n",
    "accuracy = qsvc.score(X_test, y_test)\n",
    "print(\"Точность квантового SVC:\", accuracy)"
   ],
   "metadata": {
    "collapsed": false,
    "ExecuteTime": {
     "end_time": "2024-10-31T10:49:36.902212500Z",
     "start_time": "2024-10-31T10:49:35.309873500Z"
    }
   }
  },
  {
   "cell_type": "code",
   "execution_count": null,
   "outputs": [],
   "source": [],
   "metadata": {
    "collapsed": false
   }
  }
 ],
 "metadata": {
  "kernelspec": {
   "display_name": "Python 3",
   "language": "python",
   "name": "python3"
  },
  "language_info": {
   "codemirror_mode": {
    "name": "ipython",
    "version": 2
   },
   "file_extension": ".py",
   "mimetype": "text/x-python",
   "name": "python",
   "nbconvert_exporter": "python",
   "pygments_lexer": "ipython2",
   "version": "2.7.6"
  }
 },
 "nbformat": 4,
 "nbformat_minor": 0
}
