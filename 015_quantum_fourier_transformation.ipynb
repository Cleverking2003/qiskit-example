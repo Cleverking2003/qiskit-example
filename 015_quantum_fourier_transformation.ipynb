{
 "cells": [
  {
   "cell_type": "code",
   "execution_count": null,
   "outputs": [],
   "source": [
    "from qiskit import QuantumCircuit\n",
    "import numpy as np"
   ],
   "metadata": {
    "collapsed": false
   }
  },
  {
   "cell_type": "code",
   "execution_count": null,
   "metadata": {
    "collapsed": true
   },
   "outputs": [],
   "source": [
    "\n",
    "# Квантовая фурье-трансформация для 3 кубитов\n",
    "def qft(n):\n",
    "    qc = QuantumCircuit(n)\n",
    "    for i in range(n):\n",
    "        for j in range(i):\n",
    "            qc.cp(np.pi / 2 ** (i - j), j, i)\n",
    "        qc.h(i)\n",
    "    return qc\n",
    "\n",
    "# Применение QFT на 3 кубитах\n",
    "qft_circuit = qft(3)\n",
    "qft_circuit.draw()\n"
   ]
  }
 ],
 "metadata": {
  "kernelspec": {
   "display_name": "Python 3",
   "language": "python",
   "name": "python3"
  },
  "language_info": {
   "codemirror_mode": {
    "name": "ipython",
    "version": 2
   },
   "file_extension": ".py",
   "mimetype": "text/x-python",
   "name": "python",
   "nbconvert_exporter": "python",
   "pygments_lexer": "ipython2",
   "version": "2.7.6"
  }
 },
 "nbformat": 4,
 "nbformat_minor": 0
}
