{
 "cells": [
  {
   "cell_type": "code",
   "execution_count": null,
   "outputs": [],
   "source": [
    "from qiskit import QuantumCircuit, transpile, Aer, execute\n",
    "from qiskit.visualization import plot_histogram\n",
    "import matplotlib.pyplot as plt\n",
    "from qiskit.circuit.library import GroverOperator"
   ],
   "metadata": {
    "collapsed": false
   }
  },
  {
   "cell_type": "code",
   "execution_count": null,
   "metadata": {
    "collapsed": true
   },
   "outputs": [],
   "source": [
    "# Создаем оракул для функции поиска\n",
    "oracle = QuantumCircuit(2)\n",
    "oracle.cz(0, 1)  # Помечаем элемент, который хотим найти\n",
    "\n",
    "# Создаем схему Гровера\n",
    "grover = GroverOperator(oracle)\n",
    "qc = QuantumCircuit(2, 2)\n",
    "qc.h([0, 1])  # Суперпозиция\n",
    "qc.append(grover, [0, 1])  # Применяем оператор Гровера\n",
    "qc.measure([0, 1], [0, 1])\n",
    "\n",
    "# Выполняем на симуляторе\n",
    "job = execute(qc, simulator, shots=1024)\n",
    "result = job.result()\n",
    "counts = result.get_counts(qc)\n",
    "print(\"Результаты алгоритма Гровера:\", counts)\n",
    "plot_histogram(counts)\n",
    "plt.show()\n"
   ]
  }
 ],
 "metadata": {
  "kernelspec": {
   "display_name": "Python 3",
   "language": "python",
   "name": "python3"
  },
  "language_info": {
   "codemirror_mode": {
    "name": "ipython",
    "version": 2
   },
   "file_extension": ".py",
   "mimetype": "text/x-python",
   "name": "python",
   "nbconvert_exporter": "python",
   "pygments_lexer": "ipython2",
   "version": "2.7.6"
  }
 },
 "nbformat": 4,
 "nbformat_minor": 0
}
