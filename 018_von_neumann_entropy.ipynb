{
 "cells": [
  {
   "cell_type": "code",
   "execution_count": null,
   "outputs": [],
   "source": [
    "from qiskit.quantum_info import entropy, mutual_information, partial_trace, DensityMatrix\n",
    "from qiskit import QuantumCircuit\n"
   ],
   "metadata": {
    "collapsed": false
   }
  },
  {
   "cell_type": "code",
   "execution_count": null,
   "metadata": {
    "collapsed": true
   },
   "outputs": [],
   "source": [
    "# Создаем запутанное состояние Белла\n",
    "qc = QuantumCircuit(2)\n",
    "qc.h(0)\n",
    "qc.cx(0, 1)\n",
    "state = DensityMatrix.from_instruction(qc)\n",
    "\n",
    "# Вычисляем энтропию фон Неймана\n",
    "total_entropy = entropy(state)\n",
    "\n",
    "# Трассируем частичную систему и вычисляем взаимную информацию\n",
    "partial = partial_trace(state, [0])\n",
    "mutual_info = mutual_information(state, [0], [1])\n",
    "\n",
    "print(\"Энтропия фон Неймана:\", total_entropy)\n",
    "print(\"Взаимная информация:\", mutual_info)\n"
   ]
  }
 ],
 "metadata": {
  "kernelspec": {
   "display_name": "Python 3",
   "language": "python",
   "name": "python3"
  },
  "language_info": {
   "codemirror_mode": {
    "name": "ipython",
    "version": 2
   },
   "file_extension": ".py",
   "mimetype": "text/x-python",
   "name": "python",
   "nbconvert_exporter": "python",
   "pygments_lexer": "ipython2",
   "version": "2.7.6"
  }
 },
 "nbformat": 4,
 "nbformat_minor": 0
}
