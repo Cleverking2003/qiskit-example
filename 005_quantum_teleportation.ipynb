{
 "cells": [
  {
   "cell_type": "code",
   "execution_count": null,
   "outputs": [],
   "source": [
    "from qiskit import QuantumCircuit, transpile, Aer, execute\n",
    "from qiskit.visualization import plot_histogram\n",
    "import matplotlib.pyplot as plt"
   ],
   "metadata": {
    "collapsed": false
   }
  },
  {
   "cell_type": "code",
   "execution_count": null,
   "metadata": {
    "collapsed": true
   },
   "outputs": [],
   "source": [
    "# Создаем схему с тремя кубитами и тремя классическими битами\n",
    "qc = QuantumCircuit(3, 3)\n",
    "\n",
    "# Запутываем кубиты 1 и 2\n",
    "qc.h(1)\n",
    "qc.cx(1, 2)\n",
    "\n",
    "# Кодируем состояние на кубите 0\n",
    "qc.cx(0, 1)\n",
    "qc.h(0)\n",
    "\n",
    "# Измеряем кубиты 0 и 1\n",
    "qc.measure([0, 1], [0, 1])\n",
    "\n",
    "# Используем условные операции для передачи состояния на кубит 2\n",
    "qc.cx(1, 2)\n",
    "qc.cz(0, 2)\n",
    "\n",
    "# Измеряем последний кубит\n",
    "qc.measure(2, 2)\n",
    "\n",
    "# Запускаем на симуляторе\n",
    "job = execute(qc, simulator, shots=1024)\n",
    "result = job.result()\n",
    "counts = result.get_counts(qc)\n",
    "print(\"Результаты измерения для телепортации:\", counts)\n",
    "plot_histogram(counts)\n",
    "plt.show()\n"
   ]
  }
 ],
 "metadata": {
  "kernelspec": {
   "display_name": "Python 3",
   "language": "python",
   "name": "python3"
  },
  "language_info": {
   "codemirror_mode": {
    "name": "ipython",
    "version": 2
   },
   "file_extension": ".py",
   "mimetype": "text/x-python",
   "name": "python",
   "nbconvert_exporter": "python",
   "pygments_lexer": "ipython2",
   "version": "2.7.6"
  }
 },
 "nbformat": 4,
 "nbformat_minor": 0
}
