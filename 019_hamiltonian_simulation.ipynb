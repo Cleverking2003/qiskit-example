{
 "cells": [
  {
   "cell_type": "code",
   "execution_count": null,
   "outputs": [],
   "source": [
    "from qiskit.opflow import PauliTrotterEvolution, SummedOp, X, Z, I\n",
    "from qiskit import Aer"
   ],
   "metadata": {
    "collapsed": false
   }
  },
  {
   "cell_type": "code",
   "execution_count": null,
   "metadata": {
    "collapsed": true
   },
   "outputs": [],
   "source": [
    "# Определение сложного гамильтониана H = XZ + ZI + IX\n",
    "H = (X ^ Z) + (Z ^ I) + (I ^ X)\n",
    "\n",
    "# Определяем временной интервал и эволюцию\n",
    "t = 1.0\n",
    "evolution_op = (t * H).exp_i()\n",
    "evolution = PauliTrotterEvolution().convert(evolution_op)\n",
    "\n",
    "# Выполняем на симуляторе\n",
    "backend = Aer.get_backend('statevector_simulator')\n",
    "evolved_state = evolution.eval()\n",
    "print(\"Эволюция для большого гамильтониана:\", evolved_state)\n"
   ]
  }
 ],
 "metadata": {
  "kernelspec": {
   "display_name": "Python 3",
   "language": "python",
   "name": "python3"
  },
  "language_info": {
   "codemirror_mode": {
    "name": "ipython",
    "version": 2
   },
   "file_extension": ".py",
   "mimetype": "text/x-python",
   "name": "python",
   "nbconvert_exporter": "python",
   "pygments_lexer": "ipython2",
   "version": "2.7.6"
  }
 },
 "nbformat": 4,
 "nbformat_minor": 0
}
