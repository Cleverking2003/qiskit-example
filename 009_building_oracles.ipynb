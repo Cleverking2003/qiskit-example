{
 "cells": [
  {
   "cell_type": "code",
   "execution_count": 4,
   "outputs": [],
   "source": [
    "from qiskit import QuantumCircuit, transpile, Aer, execute\n",
    "from qiskit.visualization import plot_histogram\n",
    "import matplotlib.pyplot as plt\n",
    "from qiskit.circuit.library import GroverOperator\n",
    "from qiskit.utils import QuantumInstance\n",
    "from qiskit.circuit import QuantumRegister, ClassicalRegister"
   ],
   "metadata": {
    "collapsed": false,
    "ExecuteTime": {
     "end_time": "2024-10-31T10:40:19.668742500Z",
     "start_time": "2024-10-31T10:40:19.658216600Z"
    }
   }
  },
  {
   "cell_type": "code",
   "execution_count": 5,
   "outputs": [
    {
     "data": {
      "text/plain": "<qiskit.circuit.instructionset.InstructionSet at 0x2290b63c608>"
     },
     "execution_count": 5,
     "metadata": {},
     "output_type": "execute_result"
    }
   ],
   "source": [
    "# Создаем оракул для поиска состояния |11>\n",
    "oracle = QuantumCircuit(2)\n",
    "oracle.cz(0, 1)  # Устанавливаем CZ-гейт для пометки состояния |11>\n",
    "\n",
    "# Встраиваем оракул в алгоритм Гровера\n",
    "qc = QuantumCircuit(2, 2)\n",
    "qc.h([0, 1])  # Применяем Hadamard к обоим кубитам для создания суперпозиции\n",
    "qc.append(oracle, [0, 1])  # Добавляем оракул\n",
    "qc.h([0, 1])  # Применяем Hadamard к обоим кубитам\n",
    "qc.measure([0, 1], [0, 1])  # Измеряем кубиты"
   ],
   "metadata": {
    "collapsed": false,
    "ExecuteTime": {
     "end_time": "2024-10-31T10:40:19.713609900Z",
     "start_time": "2024-10-31T10:40:19.666734600Z"
    }
   }
  },
  {
   "cell_type": "code",
   "execution_count": 6,
   "outputs": [
    {
     "data": {
      "text/plain": "<Figure size 621.739x284.278 with 1 Axes>",
      "image/png": "[encoded data removed]"
     },
     "execution_count": 6,
     "metadata": {},
     "output_type": "execute_result"
    }
   ],
   "source": [
    "# Визуализируем квантовую схему\n",
    "qc.draw(\"mpl\")  # Отображаем схему в формате matplotlib"
   ],
   "metadata": {
    "collapsed": false,
    "ExecuteTime": {
     "end_time": "2024-10-31T10:40:20.395870600Z",
     "start_time": "2024-10-31T10:40:19.709610400Z"
    }
   }
  },
  {
   "cell_type": "code",
   "execution_count": 7,
   "metadata": {
    "collapsed": true,
    "ExecuteTime": {
     "end_time": "2024-10-31T10:40:20.506820300Z",
     "start_time": "2024-10-31T10:40:20.397878200Z"
    }
   },
   "outputs": [
    {
     "name": "stdout",
     "output_type": "stream",
     "text": [
      "Результаты для алгоритма с оракулом: {'00': 251, '01': 254, '11': 272, '10': 247}\n"
     ]
    }
   ],
   "source": [
    "# Настраиваем симулятор\n",
    "simulator = Aer.get_backend('qasm_simulator')\n",
    "\n",
    "# Выполняем на симуляторе\n",
    "job = execute(qc, simulator, shots=1024)\n",
    "result = job.result()\n",
    "\n",
    "# Получаем результаты и строим гистограмму\n",
    "counts = result.get_counts(qc)\n",
    "print(\"Результаты для алгоритма с оракулом:\", counts)\n",
    "plot_histogram(counts)\n",
    "plt.show()"
   ]
  }
 ],
 "metadata": {
  "kernelspec": {
   "display_name": "Python 3",
   "language": "python",
   "name": "python3"
  },
  "language_info": {
   "codemirror_mode": {
    "name": "ipython",
    "version": 2
   },
   "file_extension": ".py",
   "mimetype": "text/x-python",
   "name": "python",
   "nbconvert_exporter": "python",
   "pygments_lexer": "ipython2",
   "version": "2.7.6"
  }
 },
 "nbformat": 4,
 "nbformat_minor": 0
}
