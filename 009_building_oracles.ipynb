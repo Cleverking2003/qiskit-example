{
 "cells": [
  {
   "cell_type": "code",
   "execution_count": null,
   "outputs": [],
   "source": [
    "from qiskit import QuantumCircuit, transpile, Aer, execute\n",
    "from qiskit.visualization import plot_histogram\n",
    "import matplotlib.pyplot as plt\n",
    "from qiskit.circuit.library import GroverOperator\n",
    "from qiskit.algorithms import Shor\n",
    "from qiskit.utils import QuantumInstance\n",
    "from qiskit.circuit import QuantumRegister, ClassicalRegister"
   ],
   "metadata": {
    "collapsed": false
   }
  },
  {
   "cell_type": "code",
   "execution_count": null,
   "metadata": {
    "collapsed": true
   },
   "outputs": [],
   "source": [
    "# Создаем оракул для поиска состояния |11>\n",
    "oracle = QuantumCircuit(2)\n",
    "oracle.cz(0, 1)  # Устанавливаем CZ-гейт для пометки состояния |11>\n",
    "\n",
    "# Встраиваем оракул в алгоритм Гровера\n",
    "qc = QuantumCircuit(2, 2)\n",
    "qc.h([0, 1])\n",
    "qc.append(oracle, [0, 1])\n",
    "qc.h([0, 1])\n",
    "qc.measure([0, 1], [0, 1])\n",
    "\n",
    "# Выполняем на симуляторе\n",
    "job = execute(qc, simulator, shots=1024)\n",
    "result = job.result()\n",
    "counts = result.get_counts(qc)\n",
    "print(\"Результаты для алгоритма с оракулом:\", counts)\n",
    "plot_histogram(counts)\n",
    "plt.show()\n"
   ]
  }
 ],
 "metadata": {
  "kernelspec": {
   "display_name": "Python 3",
   "language": "python",
   "name": "python3"
  },
  "language_info": {
   "codemirror_mode": {
    "name": "ipython",
    "version": 2
   },
   "file_extension": ".py",
   "mimetype": "text/x-python",
   "name": "python",
   "nbconvert_exporter": "python",
   "pygments_lexer": "ipython2",
   "version": "2.7.6"
  }
 },
 "nbformat": 4,
 "nbformat_minor": 0
}
