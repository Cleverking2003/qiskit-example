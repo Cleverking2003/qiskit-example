{
 "cells": [
  {
   "cell_type": "code",
   "execution_count": null,
   "outputs": [],
   "source": [
    "from qiskit import QuantumCircuit"
   ],
   "metadata": {
    "collapsed": false
   }
  },
  {
   "cell_type": "code",
   "execution_count": null,
   "metadata": {
    "collapsed": true
   },
   "outputs": [],
   "source": [
    "# Создаем квантовую цепь для кода коррекции ошибок\n",
    "qc = QuantumCircuit(9, 1)\n",
    "\n",
    "# Логический кубит (кодировка)\n",
    "qc.h(0)\n",
    "qc.cx(0, 3)\n",
    "qc.cx(0, 6)\n",
    "\n",
    "# Проверка на наличие ошибок и коррекция (декодирование)\n",
    "qc.cx(3, 4)\n",
    "qc.cx(3, 5)\n",
    "qc.cx(6, 7)\n",
    "qc.cx(6, 8)\n",
    "qc.measure(4, 0)  # измеряем для обнаружения ошибки\n",
    "qc.measure(5, 0)\n",
    "qc.measure(7, 0)\n",
    "qc.measure(8, 0)\n",
    "\n",
    "qc.draw()\n"
   ]
  }
 ],
 "metadata": {
  "kernelspec": {
   "display_name": "Python 3",
   "language": "python",
   "name": "python3"
  },
  "language_info": {
   "codemirror_mode": {
    "name": "ipython",
    "version": 2
   },
   "file_extension": ".py",
   "mimetype": "text/x-python",
   "name": "python",
   "nbconvert_exporter": "python",
   "pygments_lexer": "ipython2",
   "version": "2.7.6"
  }
 },
 "nbformat": 4,
 "nbformat_minor": 0
}
