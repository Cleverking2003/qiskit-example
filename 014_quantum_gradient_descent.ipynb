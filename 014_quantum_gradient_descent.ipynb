{
 "cells": [
  {
   "cell_type": "code",
   "execution_count": null,
   "outputs": [],
   "source": [
    "from qiskit.circuit import Parameter\n",
    "from qiskit.opflow import StateFn, Gradient\n",
    "from qiskit.algorithms.optimizers import SPSA\n",
    "import numpy as np"
   ],
   "metadata": {
    "collapsed": false
   }
  },
  {
   "cell_type": "code",
   "execution_count": null,
   "metadata": {
    "collapsed": true
   },
   "outputs": [],
   "source": [
    "# Определяем параметрическую схему\n",
    "theta = Parameter('θ')\n",
    "qc = QuantumCircuit(1)\n",
    "qc.rx(theta, 0)\n",
    "observable = StateFn(Z)  # Используем Z как наблюдаемую\n",
    "\n",
    "# Вычисляем градиент\n",
    "grad = Gradient().convert(StateFn(observable, is_measurement=True) @ StateFn(qc))\n",
    "theta_val = 0.5  # начальное значение\n",
    "grad_result = grad.bind_parameters({theta: theta_val}).eval()\n",
    "\n",
    "print(\"Градиент при θ =\", theta_val, \":\", grad_result)\n"
   ]
  }
 ],
 "metadata": {
  "kernelspec": {
   "display_name": "Python 3",
   "language": "python",
   "name": "python3"
  },
  "language_info": {
   "codemirror_mode": {
    "name": "ipython",
    "version": 2
   },
   "file_extension": ".py",
   "mimetype": "text/x-python",
   "name": "python",
   "nbconvert_exporter": "python",
   "pygments_lexer": "ipython2",
   "version": "2.7.6"
  }
 },
 "nbformat": 4,
 "nbformat_minor": 0
}
