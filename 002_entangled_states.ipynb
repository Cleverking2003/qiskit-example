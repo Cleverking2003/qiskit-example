{
 "cells": [
  {
   "cell_type": "code",
   "execution_count": null,
   "outputs": [],
   "source": [
    "from qiskit import QuantumCircuit, transpile, Aer, execute\n",
    "from qiskit.visualization import plot_histogram\n",
    "import matplotlib.pyplot as plt"
   ],
   "metadata": {
    "collapsed": false
   }
  },
  {
   "cell_type": "code",
   "execution_count": null,
   "metadata": {
    "collapsed": true
   },
   "outputs": [],
   "source": [
    "# Создаем квантовую схему с двумя кубитами и двумя классическими битами\n",
    "qc = QuantumCircuit(2, 2)\n",
    "\n",
    "# Применяем Hadamard к первому кубиту\n",
    "qc.h(0)\n",
    "\n",
    "# Применяем CNOT для запутывания кубитов\n",
    "qc.cx(0, 1)\n",
    "\n",
    "# Измеряем кубиты\n",
    "qc.measure([0, 1], [0, 1])\n",
    "\n",
    "# Выполняем схему на симуляторе\n",
    "job = execute(qc, simulator, shots=1024)\n",
    "result = job.result()\n",
    "\n",
    "# Получаем и визуализируем результаты\n",
    "counts = result.get_counts(qc)\n",
    "print(\"Результаты измерения для запутанного состояния:\", counts)\n",
    "plot_histogram(counts)\n",
    "plt.show()\n"
   ]
  }
 ],
 "metadata": {
  "kernelspec": {
   "display_name": "Python 3",
   "language": "python",
   "name": "python3"
  },
  "language_info": {
   "codemirror_mode": {
    "name": "ipython",
    "version": 2
   },
   "file_extension": ".py",
   "mimetype": "text/x-python",
   "name": "python",
   "nbconvert_exporter": "python",
   "pygments_lexer": "ipython2",
   "version": "2.7.6"
  }
 },
 "nbformat": 4,
 "nbformat_minor": 0
}
