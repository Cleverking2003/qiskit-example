{
 "cells": [
  {
   "cell_type": "markdown",
   "metadata": {},
   "source": []
  },
  {
   "cell_type": "code",
   "execution_count": 13,
   "outputs": [],
   "source": [
    "import numpy as np\n",
    "from qiskit import QuantumCircuit"
   ],
   "metadata": {
    "collapsed": false,
    "ExecuteTime": {
     "end_time": "2024-10-31T10:33:42.159577400Z",
     "start_time": "2024-10-31T10:33:42.131930Z"
    }
   }
  },
  {
   "cell_type": "code",
   "execution_count": 14,
   "outputs": [
    {
     "data": {
      "text/plain": "<qiskit.circuit.instructionset.InstructionSet at 0x171cea8f888>"
     },
     "execution_count": 14,
     "metadata": {},
     "output_type": "execute_result"
    }
   ],
   "source": [
    "# Создаем квантовую схему с помощью конструктора `QuantumCircuit`.\n",
    "qc_example = QuantumCircuit(3)\n",
    "qc_example.h(0)          # generate superposition\n",
    "qc_example.p(np.pi/2,0)  # add quantum phase\n",
    "qc_example.cx(0,1)       # 0th-qubit-Controlled-NOT gate on 1st qubit\n",
    "qc_example.cx(0,2)       # 0th-qubit-Controlled-NOT gate on 2nd qubit"
   ],
   "metadata": {
    "collapsed": false,
    "ExecuteTime": {
     "end_time": "2024-10-31T10:33:42.183423500Z",
     "start_time": "2024-10-31T10:33:42.144011700Z"
    }
   }
  },
  {
   "cell_type": "code",
   "execution_count": 15,
   "outputs": [
    {
     "data": {
      "text/plain": "<Figure size 454.719x284.278 with 1 Axes>",
      "image/png": "[encoded data removed]"
     },
     "execution_count": 15,
     "metadata": {},
     "output_type": "execute_result"
    }
   ],
   "source": [
    "# Отображаем квантовую схему в виде диаграммы.\n",
    "qc_example.draw(\"mpl\")"
   ],
   "metadata": {
    "collapsed": false,
    "ExecuteTime": {
     "end_time": "2024-10-31T10:33:42.296703900Z",
     "start_time": "2024-10-31T10:33:42.159577400Z"
    }
   }
  },
  {
   "cell_type": "code",
   "execution_count": 16,
   "outputs": [
    {
     "name": "stdout",
     "output_type": "stream",
     "text": [
      " > Квазивероятностное распределение: [{0: 0.498, 7: 0.502}]\n"
     ]
    }
   ],
   "source": [
    "# Запускаем схему с помощью `Sampler` и замеряем результаты.\n",
    "qc_measured = qc_example.measure_all(inplace=False)\n",
    "\n",
    "from qiskit.primitives.sampler import Sampler\n",
    "sampler = Sampler()\n",
    "job = sampler.run(qc_measured, shots=1000)\n",
    "result = job.result()\n",
    "print(f\" > Квазивероятностное распределение: {result.quasi_dists}\")"
   ],
   "metadata": {
    "collapsed": false,
    "ExecuteTime": {
     "end_time": "2024-10-31T10:33:42.339784100Z",
     "start_time": "2024-10-31T10:33:42.300709700Z"
    }
   }
  },
  {
   "cell_type": "code",
   "execution_count": 17,
   "outputs": [
    {
     "name": "stdout",
     "output_type": "stream",
     "text": [
      " > Ожидаемое значение: [4.]\n"
     ]
    }
   ],
   "source": [
    "# Применяем оператор к выходным значениям.\n",
    "from qiskit.quantum_info import SparsePauliOp\n",
    "operator = SparsePauliOp.from_list([(\"XXY\", 1), (\"XYX\", 1), (\"YXX\", 1), (\"YYY\", -1)])\n",
    "\n",
    "# Выполним с использованием примитива оценщика\n",
    "from qiskit.primitives import Estimator\n",
    "estimator = Estimator()\n",
    "job = estimator.run(qc_example, operator, shots=1000)\n",
    "result = job.result()\n",
    "print(f\" > Ожидаемое значение: {result.values}\")\n"
   ],
   "metadata": {
    "collapsed": false,
    "ExecuteTime": {
     "end_time": "2024-10-31T10:33:42.341785100Z",
     "start_time": "2024-10-31T10:33:42.315232500Z"
    }
   }
  }
 ],
 "metadata": {
  "kernelspec": {
   "display_name": ".venv",
   "language": "python",
   "name": "python3"
  },
  "language_info": {
   "codemirror_mode": {
    "name": "ipython",
    "version": 3
   },
   "file_extension": ".py",
   "mimetype": "text/x-python",
   "name": "python",
   "nbconvert_exporter": "python",
   "pygments_lexer": "ipython3",
   "version": "3.11.9"
  }
 },
 "nbformat": 4,
 "nbformat_minor": 2
}
