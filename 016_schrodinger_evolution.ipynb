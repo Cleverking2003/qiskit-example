{
 "cells": [
  {
   "cell_type": "code",
   "execution_count": null,
   "outputs": [],
   "source": [
    "from qiskit.opflow import I, X, Y, Z\n",
    "from qiskit import Aer\n",
    "from qiskit.opflow import StateFn, evolve"
   ],
   "metadata": {
    "collapsed": false
   }
  },
  {
   "cell_type": "code",
   "execution_count": null,
   "metadata": {
    "collapsed": true
   },
   "outputs": [],
   "source": [
    "\n",
    "# Определяем гамильтониан H = Z + X\n",
    "H = Z ^ I + I ^ X\n",
    "\n",
    "# Начальное состояние |+>\n",
    "initial_state = (StateFn(I ^ X)).to_matrix()\n",
    "\n",
    "# Эволюция состояния через e^(-iHt)\n",
    "evolved_state = (StateFn(H, is_measurement=False) @ StateFn(initial_state)).eval()\n",
    "\n",
    "print(\"Эволюционировавшее состояние:\", evolved_state)\n"
   ]
  }
 ],
 "metadata": {
  "kernelspec": {
   "display_name": "Python 3",
   "language": "python",
   "name": "python3"
  },
  "language_info": {
   "codemirror_mode": {
    "name": "ipython",
    "version": 2
   },
   "file_extension": ".py",
   "mimetype": "text/x-python",
   "name": "python",
   "nbconvert_exporter": "python",
   "pygments_lexer": "ipython2",
   "version": "2.7.6"
  }
 },
 "nbformat": 4,
 "nbformat_minor": 0
}
