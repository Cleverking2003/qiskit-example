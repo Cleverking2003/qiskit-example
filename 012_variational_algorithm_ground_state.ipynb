{
 "cells": [
  {
   "cell_type": "code",
   "execution_count": null,
   "outputs": [],
   "source": [
    "from qiskit_nature.problems.second_quantization import ElectronicStructureProblem\n",
    "from qiskit_nature.algorithms import VQE\n",
    "from qiskit.circuit.library import TwoLocal\n",
    "from qiskit_nature.mappers.second_quantization import JordanWignerMapper\n",
    "from qiskit_nature.drivers import PySCFDriver\n",
    "from qiskit_nature.units import DistanceUnit\n",
    "from qiskit import Aer"
   ],
   "metadata": {
    "collapsed": false
   }
  },
  {
   "cell_type": "code",
   "execution_count": null,
   "metadata": {
    "collapsed": true
   },
   "outputs": [],
   "source": [
    "# Создаем драйвер для молекулы воды\n",
    "driver = PySCFDriver(atom='H .0 .0 .0; H .0 .0 0.735', unit=DistanceUnit.ANGSTROM)\n",
    "es_problem = ElectronicStructureProblem(driver)\n",
    "\n",
    "# Преобразуем в квантовую задачу\n",
    "qubit_mapper = JordanWignerMapper()\n",
    "second_q_op = es_problem.second_q_ops()\n",
    "qubit_op = qubit_mapper.map(second_q_op[0])\n",
    "\n",
    "# Определяем схему параметров и оптимизатор\n",
    "ansatz = TwoLocal(rotation_blocks='ry', entanglement_blocks='cz')\n",
    "vqe_solver = VQE(ansatz, optimizer='SLSQP', quantum_instance=Aer.get_backend('statevector_simulator'))\n",
    "\n",
    "# Выполняем VQE для нахождения основного состояния\n",
    "result = vqe_solver.compute_minimum_eigenvalue(qubit_op)\n",
    "print(\"Минимальное значение энергии:\", result.eigenvalue.real)\n"
   ]
  }
 ],
 "metadata": {
  "kernelspec": {
   "display_name": "Python 3",
   "language": "python",
   "name": "python3"
  },
  "language_info": {
   "codemirror_mode": {
    "name": "ipython",
    "version": 2
   },
   "file_extension": ".py",
   "mimetype": "text/x-python",
   "name": "python",
   "nbconvert_exporter": "python",
   "pygments_lexer": "ipython2",
   "version": "2.7.6"
  }
 },
 "nbformat": 4,
 "nbformat_minor": 0
}
