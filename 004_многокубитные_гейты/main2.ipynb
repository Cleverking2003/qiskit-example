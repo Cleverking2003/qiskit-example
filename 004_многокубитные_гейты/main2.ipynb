{
 "cells": [
  {
   "cell_type": "code",
   "execution_count": 14,
   "metadata": {},
   "outputs": [],
   "source": [
    "# импорт библиотек\n",
    "from qiskit import *\n",
    "from qiskit.visualization import *\n",
    "from numpy import *\n",
    "from numpy.linalg import *\n",
    "from qiskit.providers.aer import Aer"
   ]
  },
  {
   "cell_type": "code",
   "execution_count": 15,
   "metadata": {},
   "outputs": [],
   "source": [
    "sim = Aer.get_backend('aer_simulator') # симулятор"
   ]
  },
  {
   "cell_type": "code",
   "execution_count": 16,
   "metadata": {},
   "outputs": [],
   "source": [
    "qc = QuantumCircuit(3) # квантовая цепь с одним кубитом"
   ]
  },
  {
   "cell_type": "code",
   "execution_count": 17,
   "metadata": {},
   "outputs": [
    {
     "data": {
      "text/plain": [
       "<qiskit.circuit.instructionset.InstructionSet at 0x14512f513c8>"
      ]
     },
     "execution_count": 17,
     "metadata": {},
     "output_type": "execute_result"
    }
   ],
   "source": [
    "qc.x(0) # добавление гейта\n",
    "qc.y(2)"
   ]
  },
  {
   "cell_type": "markdown",
   "metadata": {},
   "source": [
    "<img src=\"image5.png\" width=\"500\">"
   ]
  },
  {
   "cell_type": "code",
   "execution_count": 18,
   "metadata": {},
   "outputs": [
    {
     "data": {
      "text/plain": [
       "<qiskit.circuit.instructionset.InstructionSet at 0x14512f51e08>"
      ]
     },
     "execution_count": 18,
     "metadata": {},
     "output_type": "execute_result"
    }
   ],
   "source": [
    "qc.save_unitary()"
   ]
  },
  {
   "cell_type": "code",
   "execution_count": 19,
   "metadata": {},
   "outputs": [
    {
     "data": {
      "image/png": "[encoded data removed]",
      "text/plain": [
       "<Figure size 432.001x284.278 with 1 Axes>"
      ]
     },
     "execution_count": 19,
     "metadata": {},
     "output_type": "execute_result"
    }
   ],
   "source": [
    "qc.draw(output='mpl', initial_state = True)"
   ]
  },
  {
   "cell_type": "code",
   "execution_count": 20,
   "metadata": {},
   "outputs": [],
   "source": [
    "result = sim.run(qc).result() # запуск симулятора"
   ]
  },
  {
   "cell_type": "code",
   "execution_count": 23,
   "metadata": {},
   "outputs": [
    {
     "data": {
      "text/latex": [
       "$$\n",
       "Y * I * X = \n",
       "\n",
       "\\begin{bmatrix}\n",
       "0 & 0 & 0 & 0 & 0 & - i & 0 & 0  \\\\\n",
       " 0 & 0 & 0 & 0 & - i & 0 & 0 & 0  \\\\\n",
       " 0 & 0 & 0 & 0 & 0 & 0 & 0 & - i  \\\\\n",
       " 0 & 0 & 0 & 0 & 0 & 0 & - i & 0  \\\\\n",
       " 0 & i & 0 & 0 & 0 & 0 & 0 & 0  \\\\\n",
       " i & 0 & 0 & 0 & 0 & 0 & 0 & 0  \\\\\n",
       " 0 & 0 & 0 & i & 0 & 0 & 0 & 0  \\\\\n",
       " 0 & 0 & i & 0 & 0 & 0 & 0 & 0  \\\\\n",
       " \\end{bmatrix}\n",
       "$$"
      ],
      "text/plain": [
       "<IPython.core.display.Latex object>"
      ]
     },
     "execution_count": 23,
     "metadata": {},
     "output_type": "execute_result"
    }
   ],
   "source": [
    "psi = result.get_unitary() # вектор состояния\n",
    "array_to_latex(psi, prefix=\"Y * I * X = \\n\")"
   ]
  }
 ],
 "metadata": {
  "kernelspec": {
   "display_name": "venv",
   "language": "python",
   "name": "python3"
  },
  "language_info": {
   "codemirror_mode": {
    "name": "ipython",
    "version": 3
   },
   "file_extension": ".py",
   "mimetype": "text/x-python",
   "name": "python",
   "nbconvert_exporter": "python",
   "pygments_lexer": "ipython3",
   "version": "3.7.8"
  }
 },
 "nbformat": 4,
 "nbformat_minor": 2
}
