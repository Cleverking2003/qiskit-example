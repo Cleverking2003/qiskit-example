{
 "cells": [
  {
   "cell_type": "code",
   "execution_count": 7,
   "outputs": [
    {
     "ename": "ImportError",
     "evalue": "cannot import name 'VQE' from 'qiskit_nature.algorithms' (D:\\_petrsu\\quantum_computing\\venv\\lib\\site-packages\\qiskit_nature\\algorithms\\__init__.py)",
     "output_type": "error",
     "traceback": [
      "\u001B[1;31m---------------------------------------------------------------------------\u001B[0m",
      "\u001B[1;31mImportError\u001B[0m                               Traceback (most recent call last)",
      "\u001B[1;32m~\\AppData\\Local\\Temp\\ipykernel_5928\\3702227510.py\u001B[0m in \u001B[0;36m<module>\u001B[1;34m\u001B[0m\n\u001B[0;32m      1\u001B[0m \u001B[1;32mfrom\u001B[0m \u001B[0mqiskit_nature\u001B[0m\u001B[1;33m.\u001B[0m\u001B[0mproblems\u001B[0m\u001B[1;33m.\u001B[0m\u001B[0msecond_quantization\u001B[0m \u001B[1;32mimport\u001B[0m \u001B[0mElectronicStructureProblem\u001B[0m\u001B[1;33m\u001B[0m\u001B[1;33m\u001B[0m\u001B[0m\n\u001B[1;32m----> 2\u001B[1;33m \u001B[1;32mfrom\u001B[0m \u001B[0mqiskit_nature\u001B[0m\u001B[1;33m.\u001B[0m\u001B[0malgorithms\u001B[0m \u001B[1;32mimport\u001B[0m \u001B[0mVQE\u001B[0m\u001B[1;33m\u001B[0m\u001B[1;33m\u001B[0m\u001B[0m\n\u001B[0m\u001B[0;32m      3\u001B[0m \u001B[1;32mfrom\u001B[0m \u001B[0mqiskit\u001B[0m\u001B[1;33m.\u001B[0m\u001B[0mcircuit\u001B[0m\u001B[1;33m.\u001B[0m\u001B[0mlibrary\u001B[0m \u001B[1;32mimport\u001B[0m \u001B[0mTwoLocal\u001B[0m\u001B[1;33m\u001B[0m\u001B[1;33m\u001B[0m\u001B[0m\n\u001B[0;32m      4\u001B[0m \u001B[1;32mfrom\u001B[0m \u001B[0mqiskit_nature\u001B[0m\u001B[1;33m.\u001B[0m\u001B[0mmappers\u001B[0m\u001B[1;33m.\u001B[0m\u001B[0msecond_quantization\u001B[0m \u001B[1;32mimport\u001B[0m \u001B[0mJordanWignerMapper\u001B[0m\u001B[1;33m\u001B[0m\u001B[1;33m\u001B[0m\u001B[0m\n\u001B[0;32m      5\u001B[0m \u001B[1;32mfrom\u001B[0m \u001B[0mqiskit_nature\u001B[0m\u001B[1;33m.\u001B[0m\u001B[0mdrivers\u001B[0m \u001B[1;32mimport\u001B[0m \u001B[0mPySCFDriver\u001B[0m\u001B[1;33m\u001B[0m\u001B[1;33m\u001B[0m\u001B[0m\n",
      "\u001B[1;31mImportError\u001B[0m: cannot import name 'VQE' from 'qiskit_nature.algorithms' (D:\\_petrsu\\quantum_computing\\venv\\lib\\site-packages\\qiskit_nature\\algorithms\\__init__.py)"
     ]
    }
   ],
   "source": [
    "from qiskit_nature.problems.second_quantization import ElectronicStructureProblem\n",
    "from qiskit_nature.algorithms import VQE\n",
    "from qiskit.circuit.library import TwoLocal\n",
    "from qiskit_nature.mappers.second_quantization import JordanWignerMapper\n",
    "from qiskit_nature.drivers import PySCFDriver\n",
    "from qiskit_nature.units import DistanceUnit\n",
    "from qiskit import Aer"
   ],
   "metadata": {
    "collapsed": false,
    "ExecuteTime": {
     "end_time": "2024-10-31T10:42:47.947879Z",
     "start_time": "2024-10-31T10:42:47.905116600Z"
    }
   }
  },
  {
   "cell_type": "code",
   "execution_count": 8,
   "metadata": {
    "collapsed": true,
    "ExecuteTime": {
     "end_time": "2024-10-31T10:42:54.466266500Z",
     "start_time": "2024-10-31T10:42:54.411636900Z"
    }
   },
   "outputs": [
    {
     "ename": "NameError",
     "evalue": "name 'PySCFDriver' is not defined",
     "output_type": "error",
     "traceback": [
      "\u001B[1;31m---------------------------------------------------------------------------\u001B[0m",
      "\u001B[1;31mNameError\u001B[0m                                 Traceback (most recent call last)",
      "\u001B[1;32m~\\AppData\\Local\\Temp\\ipykernel_5928\\557581964.py\u001B[0m in \u001B[0;36m<module>\u001B[1;34m\u001B[0m\n\u001B[0;32m      3\u001B[0m \u001B[1;33m\u001B[0m\u001B[0m\n\u001B[0;32m      4\u001B[0m \u001B[1;31m# Создаем драйвер для молекулы воды\u001B[0m\u001B[1;33m\u001B[0m\u001B[1;33m\u001B[0m\u001B[1;33m\u001B[0m\u001B[0m\n\u001B[1;32m----> 5\u001B[1;33m \u001B[0mdriver\u001B[0m \u001B[1;33m=\u001B[0m \u001B[0mPySCFDriver\u001B[0m\u001B[1;33m(\u001B[0m\u001B[0matom\u001B[0m\u001B[1;33m=\u001B[0m\u001B[1;34m'H .0 .0 .0; H .0 .0 0.735'\u001B[0m\u001B[1;33m,\u001B[0m \u001B[0munit\u001B[0m\u001B[1;33m=\u001B[0m\u001B[0mDistanceUnit\u001B[0m\u001B[1;33m.\u001B[0m\u001B[0mANGSTROM\u001B[0m\u001B[1;33m)\u001B[0m\u001B[1;33m\u001B[0m\u001B[1;33m\u001B[0m\u001B[0m\n\u001B[0m\u001B[0;32m      6\u001B[0m \u001B[1;33m\u001B[0m\u001B[0m\n\u001B[0;32m      7\u001B[0m \u001B[1;31m# Формируем задачу электронного строения\u001B[0m\u001B[1;33m\u001B[0m\u001B[1;33m\u001B[0m\u001B[1;33m\u001B[0m\u001B[0m\n",
      "\u001B[1;31mNameError\u001B[0m: name 'PySCFDriver' is not defined"
     ]
    }
   ],
   "source": [
    "# Установим настройки для использования PySCFDriver\n",
    "settings.use_default_circuit = False\n",
    "\n",
    "# Создаем драйвер для молекулы воды\n",
    "driver = PySCFDriver(atom='H .0 .0 .0; H .0 .0 0.735', unit=DistanceUnit.ANGSTROM)\n",
    "\n",
    "# Формируем задачу электронного строения\n",
    "es_problem = ElectronicStructureProblem(driver)\n",
    "\n",
    "# Преобразуем в квантовую задачу\n",
    "qubit_mapper = JordanWignerMapper()  # Выбор маппинга\n",
    "second_q_op = es_problem.second_q_ops()  # Получение второго квантового оператора\n",
    "qubit_op = qubit_mapper.map(second_q_op[0])  # Применение маппинга к оператору\n",
    "\n",
    "# Определяем ansatz (схему параметров) и оптимизатор\n",
    "ansatz = TwoLocal(rotation_blocks='ry', entanglement_blocks='cz')  # Определение ansatz-схемы\n",
    "vqe_solver = VQE(ansatz, optimizer='SLSQP', quantum_instance=Aer.get_backend('statevector_simulator'))\n",
    "\n",
    "# Выполняем VQE для нахождения основного состояния\n",
    "result = vqe_solver.compute_minimum_eigenvalue(qubit_op)\n",
    "\n",
    "# Выводим минимальное значение энергии\n",
    "print(\"Минимальное значение энергии:\", result.eigenvalue.real)"
   ]
  },
  {
   "cell_type": "code",
   "execution_count": 8,
   "outputs": [],
   "source": [],
   "metadata": {
    "collapsed": false,
    "ExecuteTime": {
     "end_time": "2024-10-31T10:42:54.568160500Z",
     "start_time": "2024-10-31T10:42:54.551123700Z"
    }
   }
  },
  {
   "cell_type": "code",
   "execution_count": null,
   "outputs": [],
   "source": [],
   "metadata": {
    "collapsed": false
   }
  }
 ],
 "metadata": {
  "kernelspec": {
   "display_name": "Python 3",
   "language": "python",
   "name": "python3"
  },
  "language_info": {
   "codemirror_mode": {
    "name": "ipython",
    "version": 2
   },
   "file_extension": ".py",
   "mimetype": "text/x-python",
   "name": "python",
   "nbconvert_exporter": "python",
   "pygments_lexer": "ipython2",
   "version": "2.7.6"
  }
 },
 "nbformat": 4,
 "nbformat_minor": 0
}
