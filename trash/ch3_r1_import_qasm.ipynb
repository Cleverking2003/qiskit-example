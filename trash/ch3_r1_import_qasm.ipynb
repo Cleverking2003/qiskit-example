{
 "cells": [
  {
   "cell_type": "code",
   "execution_count": 2,
   "metadata": {
    "collapsed": true,
    "ExecuteTime": {
     "end_time": "2024-11-07T07:09:36.386415300Z",
     "start_time": "2024-11-07T07:09:23.995836100Z"
    }
   },
   "outputs": [
    {
     "name": "stdout",
     "output_type": "stream",
     "text": [
      "Ch 3: Moving between worlds 1\n",
      "-----------------------------\n",
      "Imported quantum circuit\n",
      "------------------------\n",
      "     ┌─────────────┐┌────────────┐┌─┐   \n",
      "q_0: ┤ Ry(0.44274) ├┤ Rx(2.7181) ├┤M├───\n",
      "     ├─────────────┤├────────────┤└╥┘┌─┐\n",
      "q_1: ┤ Ry(0.91818) ├┤ Rz(4.1619) ├─╫─┤M├\n",
      "     └─────────────┘└────────────┘ ║ └╥┘\n",
      "c: 2/══════════════════════════════╩══╩═\n",
      "                                   0  1 \n"
     ]
    }
   ],
   "source": [
    "#!/usr/bin/env python3\n",
    "# -*- coding: utf-8 -*-\n",
    "\"\"\"\n",
    "Created Nov 2020\n",
    "\n",
    "@author: hassi\n",
    "\"\"\"\n",
    "\n",
    "# For this simple recipe we will only need the QuantumCircuit method\n",
    "from qiskit import QuantumCircuit\n",
    "\n",
    "print(\"Ch 3: Moving between worlds 1\")\n",
    "print(\"-----------------------------\")\n",
    "\n",
    "# First we import the QASM string from IBM Qx\n",
    "qasm_string=input(\"Paste in a QASM string from IBM Qx (or enter the full path and file name of a .qasm file to import):\\n\")\n",
    "\n",
    "if qasm_string[-5:] == \".qasm\":\n",
    "    # Create a quantum circuit from the file\n",
    "    circ=QuantumCircuit.from_qasm_file(qasm_string)\n",
    "else:\n",
    "    # Create a quantum circuit from the string\n",
    "    circ=QuantumCircuit.from_qasm_str(qasm_string)\n",
    "\n",
    "# Print the circuitCoin.qasm\n",
    "print(\"Imported quantum circuit\")\n",
    "print(\"------------------------\")\n",
    "print(circ)"
   ]
  },
  {
   "cell_type": "code",
   "execution_count": null,
   "outputs": [],
   "source": [],
   "metadata": {
    "collapsed": false
   }
  }
 ],
 "metadata": {
  "kernelspec": {
   "display_name": "Python 3",
   "language": "python",
   "name": "python3"
  },
  "language_info": {
   "codemirror_mode": {
    "name": "ipython",
    "version": 2
   },
   "file_extension": ".py",
   "mimetype": "text/x-python",
   "name": "python",
   "nbconvert_exporter": "python",
   "pygments_lexer": "ipython2",
   "version": "2.7.6"
  }
 },
 "nbformat": 4,
 "nbformat_minor": 0
}
