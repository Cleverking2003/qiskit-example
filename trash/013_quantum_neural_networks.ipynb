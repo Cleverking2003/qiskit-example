{
 "cells": [
  {
   "cell_type": "code",
   "execution_count": 8,
   "outputs": [],
   "source": [
    "from qiskit import Aer, IBMQ, QuantumCircuit, execute\n",
    "from qiskit_machine_learning.neural_networks import TwoLayerQNN\n",
    "from qiskit.circuit.library import ZZFeatureMap, RealAmplitudes\n",
    "from qiskit_machine_learning.algorithms import NeuralNetworkClassifier\n",
    "from sklearn.datasets import make_classification\n",
    "from sklearn.model_selection import train_test_split\n",
    "from sklearn.preprocessing import MinMaxScaler"
   ],
   "metadata": {
    "collapsed": false,
    "ExecuteTime": {
     "end_time": "2024-10-31T10:44:34.787865300Z",
     "start_time": "2024-10-31T10:44:34.763320300Z"
    }
   }
  },
  {
   "cell_type": "code",
   "execution_count": 13,
   "metadata": {
    "collapsed": true,
    "ExecuteTime": {
     "end_time": "2024-10-31T10:46:04.452948900Z",
     "start_time": "2024-10-31T10:46:04.386805800Z"
    }
   },
   "outputs": [
    {
     "ename": "ImportError",
     "evalue": "cannot import name 'NeuralNetworkClassifier' from 'qiskit_machine_learning.neural_networks' (D:\\_petrsu\\quantum_computing\\venv\\lib\\site-packages\\qiskit_machine_learning\\neural_networks\\__init__.py)",
     "output_type": "error",
     "traceback": [
      "\u001B[1;31m---------------------------------------------------------------------------\u001B[0m",
      "\u001B[1;31mImportError\u001B[0m                               Traceback (most recent call last)",
      "\u001B[1;32m~\\AppData\\Local\\Temp\\ipykernel_58224\\1376518126.py\u001B[0m in \u001B[0;36m<module>\u001B[1;34m\u001B[0m\n\u001B[0;32m      3\u001B[0m \u001B[1;32mfrom\u001B[0m \u001B[0msklearn\u001B[0m\u001B[1;33m.\u001B[0m\u001B[0mmodel_selection\u001B[0m \u001B[1;32mimport\u001B[0m \u001B[0mtrain_test_split\u001B[0m\u001B[1;33m\u001B[0m\u001B[1;33m\u001B[0m\u001B[0m\n\u001B[0;32m      4\u001B[0m \u001B[1;32mfrom\u001B[0m \u001B[0msklearn\u001B[0m\u001B[1;33m.\u001B[0m\u001B[0mpreprocessing\u001B[0m \u001B[1;32mimport\u001B[0m \u001B[0mMinMaxScaler\u001B[0m\u001B[1;33m\u001B[0m\u001B[1;33m\u001B[0m\u001B[0m\n\u001B[1;32m----> 5\u001B[1;33m \u001B[1;32mfrom\u001B[0m \u001B[0mqiskit_machine_learning\u001B[0m\u001B[1;33m.\u001B[0m\u001B[0mneural_networks\u001B[0m \u001B[1;32mimport\u001B[0m \u001B[0mTwoLayerQNN\u001B[0m\u001B[1;33m,\u001B[0m \u001B[0mNeuralNetworkClassifier\u001B[0m\u001B[1;33m\u001B[0m\u001B[1;33m\u001B[0m\u001B[0m\n\u001B[0m\u001B[0;32m      6\u001B[0m \u001B[1;32mfrom\u001B[0m \u001B[0mqiskit\u001B[0m\u001B[1;33m.\u001B[0m\u001B[0mcircuit\u001B[0m\u001B[1;33m.\u001B[0m\u001B[0mlibrary\u001B[0m \u001B[1;32mimport\u001B[0m \u001B[0mZZFeatureMap\u001B[0m\u001B[1;33m,\u001B[0m \u001B[0mRealAmplitudes\u001B[0m\u001B[1;33m\u001B[0m\u001B[1;33m\u001B[0m\u001B[0m\n\u001B[0;32m      7\u001B[0m \u001B[1;32mfrom\u001B[0m \u001B[0mqiskit\u001B[0m \u001B[1;32mimport\u001B[0m \u001B[0mAer\u001B[0m\u001B[1;33m\u001B[0m\u001B[1;33m\u001B[0m\u001B[0m\n",
      "\u001B[1;31mImportError\u001B[0m: cannot import name 'NeuralNetworkClassifier' from 'qiskit_machine_learning.neural_networks' (D:\\_petrsu\\quantum_computing\\venv\\lib\\site-packages\\qiskit_machine_learning\\neural_networks\\__init__.py)"
     ]
    }
   ],
   "source": [
    "# Импорт необходимых библиотек\n",
    "from sklearn.datasets import make_classification\n",
    "from sklearn.model_selection import train_test_split\n",
    "from sklearn.preprocessing import MinMaxScaler\n",
    "from qiskit_machine_learning.neural_networks import TwoLayerQNN, NeuralNetworkClassifier\n",
    "from qiskit.circuit.library import ZZFeatureMap, RealAmplitudes\n",
    "from qiskit import Aer\n",
    "\n",
    "# Подготовка данных\n",
    "X, y = make_classification(n_samples=100, n_features=2, n_classes=2)\n",
    "X = MinMaxScaler().fit_transform(X)  # Масштабируем данные\n",
    "X_train, X_test, y_train, y_test = train_test_split(X, y, test_size=0.2)\n",
    "\n",
    "# Определяем квантовую нейронную сеть\n",
    "feature_map = ZZFeatureMap(feature_dimension=2, reps=1)  # Определяем отображение признаков\n",
    "ansatz = RealAmplitudes(num_qubits=2, reps=1)  # Определяем ансатц для квантовой нейронной сети\n",
    "qnn = TwoLayerQNN(num_qubits=2, feature_map=feature_map, ansatz=ansatz, quantum_instance=Aer.get_backend('aer_simulator'))\n",
    "\n",
    "# Создаем квантовый классификатор\n",
    "classifier = NeuralNetworkClassifier(qnn)\n",
    "\n",
    "# Обучаем модель\n",
    "classifier.fit(X_train, y_train)\n",
    "\n",
    "# Оценка модели\n",
    "accuracy = classifier.score(X_test, y_test)\n",
    "print(\"Точность квантового классификатора:\", accuracy)\n"
   ]
  },
  {
   "cell_type": "code",
   "execution_count": null,
   "outputs": [],
   "source": [],
   "metadata": {
    "collapsed": false,
    "ExecuteTime": {
     "start_time": "2024-10-31T09:50:55.500597900Z"
    }
   }
  }
 ],
 "metadata": {
  "kernelspec": {
   "display_name": "Python 3",
   "language": "python",
   "name": "python3"
  },
  "language_info": {
   "codemirror_mode": {
    "name": "ipython",
    "version": 2
   },
   "file_extension": ".py",
   "mimetype": "text/x-python",
   "name": "python",
   "nbconvert_exporter": "python",
   "pygments_lexer": "ipython2",
   "version": "2.7.6"
  }
 },
 "nbformat": 4,
 "nbformat_minor": 0
}
