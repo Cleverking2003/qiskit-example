{
 "cells": [
  {
   "cell_type": "code",
   "execution_count": null,
   "outputs": [],
   "source": [
    "from qiskit import Aer\n",
    "from qiskit.circuit.library import QAOAAnsatz\n",
    "from qiskit.algorithms import QAOA\n",
    "from qiskit_optimization.applications import MaxCut"
   ],
   "metadata": {
    "collapsed": false
   }
  },
  {
   "cell_type": "code",
   "execution_count": null,
   "outputs": [],
   "source": [
    "# Определяем задачу MaxCut\n",
    "num_qubits = 4\n",
    "graph = [(0, 1), (1, 2), (2, 3), (3, 0)]  # простой круговой граф\n",
    "max_cut = MaxCut(graph)\n",
    "qaoa_op, offset = max_cut.to_quadratic_program().to_ising()\n",
    "\n",
    "# Оптимизация с использованием QAOA\n",
    "qaoa = QAOA(optimizer='COBYLA', quantum_instance=Aer.get_backend('aer_simulator'))\n",
    "result = qaoa.compute_minimum_eigenvalue(qaoa_op)\n",
    "\n",
    "# Вывод результатов\n",
    "print(\"Оптимальное значение для задачи MaxCut:\", result.eigenvalue.real)\n",
    "print(\"Оптимальные параметры:\", result.optimal_point)\n"
   ],
   "metadata": {
    "collapsed": false
   }
  }
 ],
 "metadata": {
  "kernelspec": {
   "display_name": "Python 3",
   "language": "python",
   "name": "python3"
  },
  "language_info": {
   "codemirror_mode": {
    "name": "ipython",
    "version": 2
   },
   "file_extension": ".py",
   "mimetype": "text/x-python",
   "name": "python",
   "nbconvert_exporter": "python",
   "pygments_lexer": "ipython2",
   "version": "2.7.6"
  }
 },
 "nbformat": 4,
 "nbformat_minor": 0
}
