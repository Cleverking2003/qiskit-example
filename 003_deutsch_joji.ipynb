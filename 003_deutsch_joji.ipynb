{
 "cells": [
  {
   "cell_type": "code",
   "execution_count": null,
   "outputs": [],
   "source": [
    "from qiskit import QuantumCircuit, transpile, Aer, execute\n",
    "from qiskit.visualization import plot_histogram\n",
    "import matplotlib.pyplot as plt"
   ],
   "metadata": {
    "collapsed": false
   }
  },
  {
   "cell_type": "code",
   "execution_count": null,
   "metadata": {
    "collapsed": true
   },
   "outputs": [],
   "source": [
    "def deutsch_jozsa(oracle):\n",
    "    qc = QuantumCircuit(2, 1)\n",
    "    qc.h([0, 1])  # Суперпозиция на обоих кубитах\n",
    "    qc.append(oracle, [0, 1])  # Добавляем оракул\n",
    "    qc.h(0)\n",
    "    qc.measure(0, 0)\n",
    "    return qc\n",
    "\n",
    "# Создаем оракул для константной функции\n",
    "oracle_constant = QuantumCircuit(2)\n",
    "oracle_constant.i(0)  # Оператор тождественности\n",
    "\n",
    "# Создаем оракул для сбалансированной функции\n",
    "oracle_balanced = QuantumCircuit(2)\n",
    "oracle_balanced.cx(0, 1)  # CNOT создает сбалансированное состояние\n",
    "\n",
    "# Выполняем для каждого оракула\n",
    "for oracle in [oracle_constant, oracle_balanced]:\n",
    "    qc = deutsch_jozsa(oracle)\n",
    "    job = execute(qc, simulator, shots=1024)\n",
    "    result = job.result()\n",
    "    counts = result.get_counts(qc)\n",
    "    print(\"Результаты измерения для алгоритма Дойча-Йожи:\", counts)\n",
    "    plot_histogram(counts)\n",
    "    plt.show()\n"
   ]
  }
 ],
 "metadata": {
  "kernelspec": {
   "display_name": "Python 3",
   "language": "python",
   "name": "python3"
  },
  "language_info": {
   "codemirror_mode": {
    "name": "ipython",
    "version": 2
   },
   "file_extension": ".py",
   "mimetype": "text/x-python",
   "name": "python",
   "nbconvert_exporter": "python",
   "pygments_lexer": "ipython2",
   "version": "2.7.6"
  }
 },
 "nbformat": 4,
 "nbformat_minor": 0
}
