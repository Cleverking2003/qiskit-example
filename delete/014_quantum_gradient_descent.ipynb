{
 "cells": [
  {
   "cell_type": "code",
   "execution_count": 13,
   "outputs": [],
   "source": [
    "import numpy as np\n",
    "from qiskit import QuantumCircuit, Aer, execute\n",
    "from qiskit.quantum_info import Statevector, Operator\n",
    "from qiskit.circuit import Parameter"
   ],
   "metadata": {
    "collapsed": false,
    "ExecuteTime": {
     "end_time": "2024-10-31T10:46:46.234582100Z",
     "start_time": "2024-10-31T10:46:46.173260200Z"
    }
   }
  },
  {
   "cell_type": "code",
   "execution_count": 14,
   "outputs": [],
   "source": [
    "# Определяем параметрическую схему\n",
    "theta = Parameter('θ')\n",
    "qc = QuantumCircuit(1)\n",
    "qc.rx(theta, 0)  # Применяем RX-гейт с параметром θ\n",
    "qc.measure_all()  # Добавляем измерение для всех кубитов"
   ],
   "metadata": {
    "collapsed": false,
    "ExecuteTime": {
     "end_time": "2024-10-31T10:46:46.234582100Z",
     "start_time": "2024-10-31T10:46:46.194822900Z"
    }
   }
  },
  {
   "cell_type": "code",
   "execution_count": 16,
   "outputs": [
    {
     "data": {
      "text/plain": "<Figure size 413.165x200.667 with 1 Axes>",
      "image/png": "[encoded data removed]"
     },
     "execution_count": 16,
     "metadata": {},
     "output_type": "execute_result"
    }
   ],
   "source": [
    "# Отображаем квантовую схему в виде диаграммы.\n",
    "qc.draw(\"mpl\")"
   ],
   "metadata": {
    "collapsed": false,
    "ExecuteTime": {
     "end_time": "2024-10-31T10:46:55.144661100Z",
     "start_time": "2024-10-31T10:46:53.805187Z"
    }
   }
  },
  {
   "cell_type": "code",
   "execution_count": 17,
   "metadata": {
    "collapsed": true,
    "ExecuteTime": {
     "end_time": "2024-10-31T10:46:56.273773Z",
     "start_time": "2024-10-31T10:46:56.231662900Z"
    }
   },
   "outputs": [
    {
     "name": "stdout",
     "output_type": "stream",
     "text": [
      "Градиент при θ = 0.5 : 15625.0\n"
     ]
    }
   ],
   "source": [
    "# Определяем наблюдаемую (матрица Z)\n",
    "observable = Operator([[1, 0], [0, -1]])  # Оператор Z\n",
    "\n",
    "# Создаем симулятор\n",
    "backend = Aer.get_backend('aer_simulator')\n",
    "\n",
    "# Функция для вычисления наблюдаемой\n",
    "def expectation_value(theta_val):\n",
    "    # Привязываем параметр\n",
    "    bound_qc = qc.bind_parameters({theta: theta_val})\n",
    "    # Выполняем схему и получаем результат\n",
    "    result = execute(bound_qc, backend, shots=1024).result()\n",
    "    counts = result.get_counts()  # Получаем количество измерений\n",
    "    # Вычисляем ожидаемое значение\n",
    "    exp_val = (counts.get('0', 0) - counts.get('1', 0)) / 1024\n",
    "    return exp_val\n",
    "\n",
    "# Начальное значение параметра\n",
    "theta_val = 0.5\n",
    "epsilon = 1e-6  # Небольшое значение для финишной разности\n",
    "\n",
    "# Вычисляем градиент с помощью финишной разности\n",
    "grad = (expectation_value(theta_val + epsilon) - expectation_value(theta_val - epsilon)) / (2 * epsilon)\n",
    "\n",
    "print(\"Градиент при θ =\", theta_val, \":\", grad)\n"
   ]
  },
  {
   "cell_type": "code",
   "execution_count": 7,
   "outputs": [
    {
     "ename": "ImportError",
     "evalue": "cannot import name 'metadata' from 'importlib' (C:\\COMPINT\\Python378\\lib\\importlib\\__init__.py)",
     "output_type": "error",
     "traceback": [
      "\u001B[1;31m---------------------------------------------------------------------------\u001B[0m",
      "\u001B[1;31mImportError\u001B[0m                               Traceback (most recent call last)",
      "\u001B[1;32m~\\AppData\\Local\\Temp\\ipykernel_45704\\454437038.py\u001B[0m in \u001B[0;36m<module>\u001B[1;34m\u001B[0m\n\u001B[1;32m----> 1\u001B[1;33m \u001B[1;32mimport\u001B[0m \u001B[0mpennylane\u001B[0m \u001B[1;32mas\u001B[0m \u001B[0mqml\u001B[0m\u001B[1;33m\u001B[0m\u001B[1;33m\u001B[0m\u001B[0m\n\u001B[0m\u001B[0;32m      2\u001B[0m \u001B[1;32mfrom\u001B[0m \u001B[0mpennylane\u001B[0m \u001B[1;32mimport\u001B[0m \u001B[0mnumpy\u001B[0m \u001B[1;32mas\u001B[0m \u001B[0mnp\u001B[0m\u001B[1;33m\u001B[0m\u001B[1;33m\u001B[0m\u001B[0m\n\u001B[0;32m      3\u001B[0m \u001B[1;33m\u001B[0m\u001B[0m\n\u001B[0;32m      4\u001B[0m \u001B[1;31m# a. Create a classical neural network with weights and biases\u001B[0m\u001B[1;33m\u001B[0m\u001B[1;33m\u001B[0m\u001B[1;33m\u001B[0m\u001B[0m\n\u001B[0;32m      5\u001B[0m \u001B[1;32mdef\u001B[0m \u001B[0mclassical_neural_network\u001B[0m\u001B[1;33m(\u001B[0m\u001B[0mx\u001B[0m\u001B[1;33m,\u001B[0m \u001B[0mweights\u001B[0m\u001B[1;33m,\u001B[0m \u001B[0mbiases\u001B[0m\u001B[1;33m)\u001B[0m\u001B[1;33m:\u001B[0m\u001B[1;33m\u001B[0m\u001B[1;33m\u001B[0m\u001B[0m\n",
      "\u001B[1;32mD:\\_petrsu\\quantum_computing\\venv\\lib\\site-packages\\pennylane\\__init__.py\u001B[0m in \u001B[0;36m<module>\u001B[1;34m\u001B[0m\n\u001B[0;32m     16\u001B[0m \u001B[0mPennyLane\u001B[0m \u001B[0mcan\u001B[0m \u001B[0mbe\u001B[0m \u001B[0mdirectly\u001B[0m \u001B[0mimported\u001B[0m\u001B[1;33m.\u001B[0m\u001B[1;33m\u001B[0m\u001B[1;33m\u001B[0m\u001B[0m\n\u001B[0;32m     17\u001B[0m \"\"\"\n\u001B[1;32m---> 18\u001B[1;33m \u001B[1;32mfrom\u001B[0m \u001B[0mimportlib\u001B[0m \u001B[1;32mimport\u001B[0m \u001B[0mreload\u001B[0m\u001B[1;33m,\u001B[0m \u001B[0mmetadata\u001B[0m\u001B[1;33m\u001B[0m\u001B[1;33m\u001B[0m\u001B[0m\n\u001B[0m\u001B[0;32m     19\u001B[0m \u001B[1;32mfrom\u001B[0m \u001B[0msys\u001B[0m \u001B[1;32mimport\u001B[0m \u001B[0mversion_info\u001B[0m\u001B[1;33m\u001B[0m\u001B[1;33m\u001B[0m\u001B[0m\n\u001B[0;32m     20\u001B[0m \u001B[1;33m\u001B[0m\u001B[0m\n",
      "\u001B[1;31mImportError\u001B[0m: cannot import name 'metadata' from 'importlib' (C:\\COMPINT\\Python378\\lib\\importlib\\__init__.py)"
     ]
    }
   ],
   "source": [
    "import pennylane as qml\n",
    "from pennylane import numpy as np\n",
    "\n",
    "# a. Create a classical neural network with weights and biases\n",
    "def classical_neural_network(x, weights, biases):\n",
    "    return np.tanh(np.dot(weights, x) + biases)\n",
    "\n",
    "# b. Transform the weights and biases into quantum parameters using angle encoding\n",
    "def angle_encoding(weight, bias):\n",
    "    return 2 * np.arctan(weight), 2 * np.arctan(bias)\n",
    "\n",
    "# c. Implement quantum logic gates to create quantum circuits\n",
    "def quantum_neural_network(params, x=None, y=None):\n",
    "    qml.RX(params[0], wires=0)\n",
    "    qml.RY(params[1], wires=0)\n",
    "\n",
    "# d. Apply quantum optimization techniques to train the network\n",
    "dev = qml.device(\"default.qubit\", wires=1)\n",
    "\n",
    "@qml.qnode(dev)\n",
    "def circuit(params, x=None, y=None):\n",
    "    quantum_neural_network(params)\n",
    "    return qml.expval(qml.PauliZ(0))\n",
    "\n",
    "def cost(params, X, Y):\n",
    "    predictions = np.array([circuit(params, x=x) for x in X])\n",
    "    return np.mean((predictions - Y) ** 2)\n",
    "\n",
    "# Generate training data\n",
    "X_train = np.linspace(-1, 1, 10)\n",
    "Y_train = np.array([classical_neural_network(x, 2, 0.5) for x in X_train])\n",
    "\n",
    "# Transform the weights and biases into quantum parameters\n",
    "weight, bias = angle_encoding(2, 0.5)\n",
    "params = np.array([weight, bias])\n",
    "\n",
    "# Train the quantum neural network\n",
    "opt = qml.GradientDescentOptimizer(stepsize=0.1)\n",
    "steps = 100\n",
    "\n",
    "for i in range(steps):\n",
    "    params, prev_cost = opt.step_and_cost(cost, params, X_train, Y_train)\n",
    "    if i % 10 == 0:\n",
    "        print(f\"Step {i}: cost = {prev_cost}\")\n",
    "\n",
    "# Evaluate the trained quantum neural network\n",
    "predictions = np.array([circuit(params, x=x) for x in X_train])"
   ],
   "metadata": {
    "collapsed": false,
    "ExecuteTime": {
     "end_time": "2024-11-14T08:13:03.368520100Z",
     "start_time": "2024-11-14T08:13:03.328495900Z"
    }
   }
  },
  {
   "cell_type": "code",
   "execution_count": null,
   "outputs": [],
   "source": [],
   "metadata": {
    "collapsed": false
   }
  }
 ],
 "metadata": {
  "kernelspec": {
   "display_name": "Python 3",
   "language": "python",
   "name": "python3"
  },
  "language_info": {
   "codemirror_mode": {
    "name": "ipython",
    "version": 2
   },
   "file_extension": ".py",
   "mimetype": "text/x-python",
   "name": "python",
   "nbconvert_exporter": "python",
   "pygments_lexer": "ipython2",
   "version": "2.7.6"
  }
 },
 "nbformat": 4,
 "nbformat_minor": 0
}
