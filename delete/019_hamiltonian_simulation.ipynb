{
 "cells": [
  {
   "cell_type": "code",
   "execution_count": 9,
   "outputs": [],
   "source": [
    "from qiskit.opflow import PauliTrotterEvolution, SummedOp, X, Z, I\n",
    "from qiskit import Aer\n",
    "from qiskit import Aer, IBMQ, QuantumCircuit, execute\n",
    "import matplotlib.pyplot as plt  # Импортируем Matplotlib для визуализации\n",
    "import sys"
   ],
   "metadata": {
    "collapsed": false,
    "ExecuteTime": {
     "end_time": "2024-10-31T10:51:10.875081100Z",
     "start_time": "2024-10-31T10:51:09.978124900Z"
    }
   }
  },
  {
   "cell_type": "code",
   "execution_count": 10,
   "metadata": {
    "collapsed": true,
    "ExecuteTime": {
     "end_time": "2024-10-31T10:51:11.385955600Z",
     "start_time": "2024-10-31T10:51:10.887595600Z"
    }
   },
   "outputs": [
    {
     "name": "stderr",
     "output_type": "stream",
     "text": [
      "D:\\_petrsu\\quantum_computing\\venv\\lib\\site-packages\\ipykernel_launcher.py:7: DeprecationWarning: The class ``qiskit.opflow.evolutions.pauli_trotter_evolution.PauliTrotterEvolution`` is deprecated as of qiskit-terra 0.24.0. It will be removed no earlier than 3 months after the release date. For code migration guidelines, visit https://qisk.it/opflow_migration.\n",
      "  import sys\n"
     ]
    },
    {
     "name": "stdout",
     "output_type": "stream",
     "text": [
      "Квантовая схема эволюции:\n"
     ]
    },
    {
     "data": {
      "text/plain": "<Figure size 287.294x200.667 with 1 Axes>",
      "image/png": "[encoded data removed]"
     },
     "execution_count": 10,
     "metadata": {},
     "output_type": "execute_result"
    }
   ],
   "source": [
    "# Определение сложного гамильтониана H = XZ + ZI + IX\n",
    "H = (X ^ Z) + (Z ^ I) + (I ^ X)\n",
    "\n",
    "# Определяем временной интервал и эволюцию\n",
    "t = 1.0\n",
    "evolution_op = (t * H).exp_i()\n",
    "evolution = PauliTrotterEvolution().convert(evolution_op)\n",
    "\n",
    "# Создание квантовой схемы для визуализации\n",
    "qc = QuantumCircuit(2)  # Предполагаем, что у нас 2 кубита\n",
    "qc.append(evolution, range(2))  # Добавляем операцию эволюции в схему\n",
    "\n",
    "# Визуализируем квантовую схему\n",
    "print(\"Квантовая схема эволюции:\")\n",
    "qc.draw(\"mpl\")  # Отображаем схему в формате matplotlib"
   ]
  },
  {
   "cell_type": "code",
   "execution_count": 11,
   "outputs": [
    {
     "name": "stdout",
     "output_type": "stream",
     "text": [
      "Эволюция для большого гамильтониана: Operator([[ 0.15772861-0.24564775j, -0.3825737 -0.24564775j,\n",
      "           -0.3825737 -0.24564775j,  0.3825737 -0.59582324j],\n",
      "          [-0.3825737 -0.24564775j,  0.15772861-0.24564775j,\n",
      "           -0.3825737 +0.59582324j,  0.3825737 +0.24564775j],\n",
      "          [ 0.3825737 -0.24564775j,  0.3825737 +0.59582324j,\n",
      "            0.15772861+0.24564775j,  0.3825737 -0.24564775j],\n",
      "          [-0.3825737 -0.59582324j, -0.3825737 +0.24564775j,\n",
      "            0.3825737 -0.24564775j,  0.15772861+0.24564775j]],\n",
      "         input_dims=(2, 2), output_dims=(2, 2))\n"
     ]
    }
   ],
   "source": [
    "# Выполняем на симуляторе\n",
    "backend = Aer.get_backend('statevector_simulator')\n",
    "evolved_state = evolution.eval()\n",
    "print(\"Эволюция для большого гамильтониана:\", evolved_state)"
   ],
   "metadata": {
    "collapsed": false,
    "ExecuteTime": {
     "end_time": "2024-10-31T10:51:11.408496600Z",
     "start_time": "2024-10-31T10:51:11.392955400Z"
    }
   }
  }
 ],
 "metadata": {
  "kernelspec": {
   "display_name": "Python 3",
   "language": "python",
   "name": "python3"
  },
  "language_info": {
   "codemirror_mode": {
    "name": "ipython",
    "version": 2
   },
   "file_extension": ".py",
   "mimetype": "text/x-python",
   "name": "python",
   "nbconvert_exporter": "python",
   "pygments_lexer": "ipython2",
   "version": "2.7.6"
  }
 },
 "nbformat": 4,
 "nbformat_minor": 0
}
