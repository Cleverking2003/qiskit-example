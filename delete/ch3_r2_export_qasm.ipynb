{
 "cells": [
  {
   "cell_type": "code",
   "execution_count": 1,
   "outputs": [
    {
     "name": "stdout",
     "output_type": "stream",
     "text": [
      "Ch 3: Moving between worlds 2\n",
      "-----------------------------\n",
      "Random quantum circuit\n",
      "----------------------\n",
      "\n",
      "                 ┌──────┐┌─┐   \n",
      "q_0: ─■──────────┤1     ├┤M├───\n",
      "      │P(3.1725) │  Ecr │└╥┘┌─┐\n",
      "q_1: ─■──────────┤0     ├─╫─┤M├\n",
      "                 └──────┘ ║ └╥┘\n",
      "c: 2/═════════════════════╩══╩═\n",
      "                          0  1 \n",
      "\n",
      "OpenQASM code\n",
      "-------------\n",
      "\n",
      "\u001B[92mOPENQASM\u001B[39m \u001B[96m2\u001B[39m.\u001B[96m0\u001B[39m;\n",
      "\u001B[92minclude\u001B[39m\u001B[91m \"qelib1.inc\"\u001B[39m;\n",
      "\u001B[93mgate\u001B[39m \u001B[95mr\u001B[39mzx(p\u001B[95ma\u001B[39m\u001B[95mr\u001B[39m\u001B[95ma\u001B[39mm\u001B[95m0\u001B[39m) q\u001B[95m0\u001B[39m,q\u001B[95m1\u001B[39m { h q\u001B[95m1\u001B[39m; cx q\u001B[95m0\u001B[39m,q\u001B[95m1\u001B[39m; \u001B[95mr\u001B[39mz(p\u001B[95ma\u001B[39m\u001B[95mr\u001B[39m\u001B[95ma\u001B[39mm\u001B[95m0\u001B[39m) q\u001B[95m1\u001B[39m; cx q\u001B[95m0\u001B[39m,q\u001B[95m1\u001B[39m; h q\u001B[95m1\u001B[39m; }\n",
      "\u001B[93mgate\u001B[39m ec\u001B[95mr\u001B[39m q\u001B[95m0\u001B[39m,q\u001B[95m1\u001B[39m { \u001B[95mr\u001B[39mzx(p\u001B[95mi\u001B[39m/\u001B[95m4\u001B[39m) q\u001B[95m0\u001B[39m,q\u001B[95m1\u001B[39m; x q\u001B[95m0\u001B[39m; \u001B[95mr\u001B[39mzx(-p\u001B[95mi\u001B[39m/\u001B[95m4\u001B[39m) q\u001B[95m0\u001B[39m,q\u001B[95m1\u001B[39m; }\n",
      "\u001B[92mqreg\u001B[39m q[\u001B[96m2\u001B[39m];\n",
      "\u001B[92mcreg\u001B[39m c[\u001B[96m2\u001B[39m];\n",
      "cp(\u001B[96m3\u001B[39m.\u001B[95m1\u001B[39m\u001B[95m7\u001B[39m\u001B[95m2\u001B[39m\u001B[95m5\u001B[39m\u001B[95m4\u001B[39m\u001B[95m2\u001B[39m\u001B[95m8\u001B[39m\u001B[95m9\u001B[39m\u001B[95m3\u001B[39m\u001B[95m1\u001B[39m\u001B[95m5\u001B[39m\u001B[95m1\u001B[39m\u001B[95m8\u001B[39m\u001B[95m7\u001B[39m\u001B[95m2\u001B[39m\u001B[95m4\u001B[39m) q[\u001B[96m0\u001B[39m],q[\u001B[96m1\u001B[39m];\n",
      "ecr q[\u001B[96m1\u001B[39m],q[\u001B[96m0\u001B[39m];\n",
      "\u001B[94mmeasure\u001B[39m q[\u001B[96m0\u001B[39m] -> c[\u001B[96m0\u001B[39m];\n",
      "\u001B[94mmeasure\u001B[39m q[\u001B[96m1\u001B[39m] -> c[\u001B[96m1\u001B[39m];\n",
      "\n"
     ]
    }
   ],
   "source": [
    "#!/usr/bin/env python3\n",
    "# -*- coding: utf-8 -*-\n",
    "\"\"\"\n",
    "Created Nov 2020\n",
    "\n",
    "@author: hassi\n",
    "\"\"\"\n",
    "\n",
    "# For this simple recipe we will only need the random_circuit method\n",
    "from qiskit.circuit.random.utils import random_circuit\n",
    "\n",
    "print(\"Ch 3: Moving between worlds 2\")\n",
    "print(\"-----------------------------\")\n",
    "\n",
    "# First we create and print a random quantum circuit\n",
    "print(\"Random quantum circuit\")\n",
    "print(\"----------------------\\n\")\n",
    "circ=random_circuit(2,2,measure=True)\n",
    "print(circ)\n",
    "\n",
    "\n",
    "# Next, we export the circuit as QASM code. If you include a filename you can also save the QASM code as a text file on your local machine\n",
    "print(\"\\nOpenQASM code\")\n",
    "print(\"-------------\\n\")\n",
    "\n",
    "circ.qasm(formatted=True, filename=\"Circuit.qasm\")\n",
    "\n"
   ],
   "metadata": {
    "collapsed": false,
    "ExecuteTime": {
     "end_time": "2024-11-07T07:10:33.977693600Z",
     "start_time": "2024-11-07T07:10:32.657867200Z"
    }
   }
  },
  {
   "cell_type": "code",
   "execution_count": null,
   "outputs": [],
   "source": [],
   "metadata": {
    "collapsed": false
   }
  }
 ],
 "metadata": {
  "kernelspec": {
   "display_name": "Python 3",
   "language": "python",
   "name": "python3"
  },
  "language_info": {
   "codemirror_mode": {
    "name": "ipython",
    "version": 2
   },
   "file_extension": ".py",
   "mimetype": "text/x-python",
   "name": "python",
   "nbconvert_exporter": "python",
   "pygments_lexer": "ipython2",
   "version": "2.7.6"
  }
 },
 "nbformat": 4,
 "nbformat_minor": 0
}
