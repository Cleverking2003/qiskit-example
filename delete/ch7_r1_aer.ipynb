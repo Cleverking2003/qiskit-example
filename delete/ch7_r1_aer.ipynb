{
 "cells": [
  {
   "cell_type": "code",
   "execution_count": null,
   "metadata": {
    "collapsed": true
   },
   "outputs": [],
   "source": []
  },
  {
   "cell_type": "code",
   "execution_count": 3,
   "outputs": [
    {
     "name": "stdout",
     "output_type": "stream",
     "text": [
      "Ch 7: Understanding your circuits with the unitary simulator\n",
      "------------------------------------------------------------\n",
      "\n",
      "Enter the number for the circuit to explore:\n",
      "--------------------------------------------\n",
      "\n",
      "0. Exit \n",
      "1. One qubit superposition\n",
      "2. Two qubit superposition\n",
      "3. Two qubit entanglement\n",
      "4. Import QASM from IBM Quantum Experience\n"
     ]
    },
    {
     "ename": "IndexError",
     "evalue": "list index out of range",
     "output_type": "error",
     "traceback": [
      "\u001B[1;31m---------------------------------------------------------------------------\u001B[0m",
      "\u001B[1;31mIndexError\u001B[0m                                Traceback (most recent call last)",
      "\u001B[1;32m~\\AppData\\Local\\Temp\\ipykernel_32716\\861010339.py\u001B[0m in \u001B[0;36m<module>\u001B[1;34m\u001B[0m\n\u001B[0;32m    101\u001B[0m \u001B[1;33m\u001B[0m\u001B[0m\n\u001B[0;32m    102\u001B[0m \u001B[1;32mif\u001B[0m \u001B[0m__name__\u001B[0m \u001B[1;33m==\u001B[0m \u001B[1;34m'__main__'\u001B[0m\u001B[1;33m:\u001B[0m\u001B[1;33m\u001B[0m\u001B[1;33m\u001B[0m\u001B[0m\n\u001B[1;32m--> 103\u001B[1;33m     \u001B[0mmain\u001B[0m\u001B[1;33m(\u001B[0m\u001B[1;33m)\u001B[0m\u001B[1;33m\u001B[0m\u001B[1;33m\u001B[0m\u001B[0m\n\u001B[0m",
      "\u001B[1;32m~\\AppData\\Local\\Temp\\ipykernel_32716\\861010339.py\u001B[0m in \u001B[0;36mmain\u001B[1;34m()\u001B[0m\n\u001B[0;32m     91\u001B[0m             \u001B[1;32melse\u001B[0m\u001B[1;33m:\u001B[0m\u001B[1;33m\u001B[0m\u001B[1;33m\u001B[0m\u001B[0m\n\u001B[0;32m     92\u001B[0m                 \u001B[0mcirc\u001B[0m\u001B[1;33m=\u001B[0m\u001B[0mcircuits\u001B[0m\u001B[1;33m(\u001B[0m\u001B[1;33m)\u001B[0m\u001B[1;33m\u001B[0m\u001B[1;33m\u001B[0m\u001B[0m\n\u001B[1;32m---> 93\u001B[1;33m                 \u001B[0mqc\u001B[0m\u001B[1;33m=\u001B[0m\u001B[0mcirc\u001B[0m\u001B[1;33m[\u001B[0m\u001B[0muser_input\u001B[0m\u001B[1;33m-\u001B[0m\u001B[1;36m1\u001B[0m\u001B[1;33m]\u001B[0m\u001B[1;33m\u001B[0m\u001B[1;33m\u001B[0m\u001B[0m\n\u001B[0m\u001B[0;32m     94\u001B[0m                 \u001B[0mprint\u001B[0m\u001B[1;33m(\u001B[0m\u001B[1;34m\"\\nSelected circuit:\\n-----------------\"\u001B[0m\u001B[1;33m)\u001B[0m\u001B[1;33m\u001B[0m\u001B[1;33m\u001B[0m\u001B[0m\n\u001B[0;32m     95\u001B[0m             \u001B[0mprint\u001B[0m\u001B[1;33m(\u001B[0m\u001B[0mqc\u001B[0m\u001B[1;33m)\u001B[0m\u001B[1;33m\u001B[0m\u001B[1;33m\u001B[0m\u001B[0m\n",
      "\u001B[1;31mIndexError\u001B[0m: list index out of range"
     ]
    }
   ],
   "source": [
    "#!/usr/bin/env python3\n",
    "# -*- coding: utf-8 -*-\n",
    "\"\"\"\n",
    "Created Nov 2020\n",
    "\n",
    "@author: hassi\n",
    "\"\"\"\n",
    "\n",
    "print(\"Ch 7: Understanding your circuits with the unitary simulator\")\n",
    "print(\"------------------------------------------------------------\")\n",
    "\n",
    "# Import the required Qiskit classes\n",
    "from qiskit import(QuantumCircuit, execute, Aer)\n",
    "\n",
    "# Import some math that we might need\n",
    "from math import pow\n",
    "\n",
    "import numpy as np\n",
    "np.set_printoptions(precision=3)\n",
    "\n",
    "# Create some circuits\n",
    "def circuits():\n",
    "    circuits=[]\n",
    "    # Circuit 1 - one qubit in superposition\n",
    "    circuit1 = QuantumCircuit(1,1)\n",
    "    circuit1.h(0)\n",
    "    # Circuit 2 - two qubits in superposition\n",
    "    circuit2 = QuantumCircuit(2,2)\n",
    "    circuit2.h([0,1])\n",
    "    # Circuit 3 - two entangled qubits\n",
    "    circuit3 = QuantumCircuit(2,2)\n",
    "    circuit3.h([0])\n",
    "    circuit3.cx(0,1)\n",
    "    # Bundle the circuits in a list and return the list\n",
    "    circuits=[circuit1,circuit2,circuit3]\n",
    "    return(circuits)\n",
    "\n",
    "# Get unitary matrix from unitary simulator\n",
    "def show_unitary(circuit):\n",
    "    global unit\n",
    "    backend = Aer.get_backend('unitary_simulator')\n",
    "    unit=execute(circuit, backend).result().get_unitary(circuit)\n",
    "    print(\"Unitary matrix for the circuit:\\n-------------------------------\\n\",unit)\n",
    "\n",
    "# Calculate and display the unitary matrix\n",
    "def calc_unitary(circuit,unitary):\n",
    "    # Set number of shots\n",
    "    shots=1000\n",
    "    # Calculate possible number of outcomes, 2^n qubits\n",
    "    binary=int(pow(2,circuit.width()/2))\n",
    "    # Set the binary key for correct binary conversion\n",
    "    bin_key='0'+str(int(circuit.width()/2))+'b'\n",
    "    # Create a qubit vector based on all qubits in the ground state |0> and a results list for all possible outcomes.\n",
    "    vector=[1]\n",
    "    outcomes=[format(0, bin_key)+\":\"]\n",
    "    for q in range (1,binary):\n",
    "        vector.append(0)\n",
    "        outcomes.append(format(q, bin_key)+\":\")\n",
    "    qubits=np.array(vector)\n",
    "    # Calculate the dot product of the unitary matrix and the qubits set by the qubits parameter.\n",
    "    a_thru_d=np.dot(unitary,qubits)\n",
    "    # Print the probabilities (counts) of the calculated outcome.\n",
    "    calc_counts={}\n",
    "    for out in range (0,len(a_thru_d)):\n",
    "        calc_counts[outcomes[out]]=(int(pow(abs(a_thru_d[out]),2)*shots))\n",
    "    print(\"\\nCalculated counts:\\n------------------\\n\",calc_counts)\n",
    "    # Automate creation of measurement gates from number of qubits\n",
    "    # Run the circuit on the backend\n",
    "    if circuit.width()==2:\n",
    "        circuit.measure([0],[0])\n",
    "    else:\n",
    "        circuit.measure([0,1],[0,1])\n",
    "    backend_count = Aer.get_backend('qasm_simulator')\n",
    "    counts=execute(circuit, backend_count,shots=shots).result().get_counts(circuit)\n",
    "    # Print the counts of the measured outcome.\n",
    "    print(\"\\nExecuted counts:\\n----------------\\n\",counts,\"\\n\")\n",
    "\n",
    "# Main loop\n",
    "def main():\n",
    "    user_input=1\n",
    "    print(\"\\nEnter the number for the circuit to explore:\\n--------------------------------------------\")\n",
    "    while user_input!=0:\n",
    "        print(\"\\n0. Exit \\n1. One qubit superposition\\n2. Two qubit superposition\\n3. Two qubit entanglement\\n4. Import QASM from IBM Quantum Experience\")\n",
    "        user_input=int(input())\n",
    "        if user_input!=0:\n",
    "            if user_input==4:\n",
    "                # From Qasm to Qiskit\n",
    "                print(\"Paste a QASM string after stripping off any measurement gates:\")\n",
    "                qc = QuantumCircuit.from_qasm_str(input())\n",
    "                print(\"\\nImported circuit:\\n-----------------\")\n",
    "            else:\n",
    "                circ=circuits()\n",
    "                qc=circ[user_input-1]\n",
    "                print(\"\\nSelected circuit:\\n-----------------\")\n",
    "            print(qc)\n",
    "            show_unitary(qc)\n",
    "            calc_unitary(qc,unit)\n",
    "        else:\n",
    "            print(\"Exiting\")\n",
    "\n",
    "\n",
    "if __name__ == '__main__':\n",
    "    main()"
   ],
   "metadata": {
    "collapsed": false,
    "ExecuteTime": {
     "end_time": "2024-11-07T07:37:32.103380Z",
     "start_time": "2024-11-07T07:37:22.049800400Z"
    }
   }
  },
  {
   "cell_type": "code",
   "execution_count": null,
   "outputs": [],
   "source": [],
   "metadata": {
    "collapsed": false
   }
  }
 ],
 "metadata": {
  "kernelspec": {
   "display_name": "Python 3",
   "language": "python",
   "name": "python3"
  },
  "language_info": {
   "codemirror_mode": {
    "name": "ipython",
    "version": 2
   },
   "file_extension": ".py",
   "mimetype": "text/x-python",
   "name": "python",
   "nbconvert_exporter": "python",
   "pygments_lexer": "ipython2",
   "version": "2.7.6"
  }
 },
 "nbformat": 4,
 "nbformat_minor": 0
}
