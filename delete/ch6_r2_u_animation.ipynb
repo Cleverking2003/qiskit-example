{
 "cells": [
  {
   "cell_type": "code",
   "execution_count": 5,
   "metadata": {
    "collapsed": true,
    "ExecuteTime": {
     "end_time": "2024-11-07T07:35:00.599670700Z",
     "start_time": "2024-11-07T07:34:55.903139800Z"
    }
   },
   "outputs": [
    {
     "name": "stdout",
     "output_type": "stream",
     "text": [
      "Ch 6: Animating the U gates\n",
      "--------------------------\n",
      "Checking if /images directory exists...\n",
      "Directory images exists\n",
      "Building animation...\n"
     ]
    },
    {
     "ename": "AttributeError",
     "evalue": "'QuantumCircuit' object has no attribute 'u1'",
     "output_type": "error",
     "traceback": [
      "\u001B[1;31m---------------------------------------------------------------------------\u001B[0m",
      "\u001B[1;31mAttributeError\u001B[0m                            Traceback (most recent call last)",
      "\u001B[1;32m~\\AppData\\Local\\Temp\\ipykernel_15500\\597040036.py\u001B[0m in \u001B[0;36m<module>\u001B[1;34m\u001B[0m\n\u001B[0;32m    117\u001B[0m \u001B[1;33m\u001B[0m\u001B[0m\n\u001B[0;32m    118\u001B[0m \u001B[1;32mif\u001B[0m \u001B[0m__name__\u001B[0m \u001B[1;33m==\u001B[0m \u001B[1;34m'__main__'\u001B[0m\u001B[1;33m:\u001B[0m\u001B[1;33m\u001B[0m\u001B[1;33m\u001B[0m\u001B[0m\n\u001B[1;32m--> 119\u001B[1;33m     \u001B[0mmain\u001B[0m\u001B[1;33m(\u001B[0m\u001B[1;33m)\u001B[0m\u001B[1;33m\u001B[0m\u001B[1;33m\u001B[0m\u001B[0m\n\u001B[0m",
      "\u001B[1;32m~\\AppData\\Local\\Temp\\ipykernel_15500\\597040036.py\u001B[0m in \u001B[0;36mmain\u001B[1;34m()\u001B[0m\n\u001B[0;32m    111\u001B[0m         \u001B[1;32mif\u001B[0m \u001B[0mgate\u001B[0m \u001B[1;32min\u001B[0m \u001B[1;33m[\u001B[0m\u001B[1;34m\"u3\"\u001B[0m\u001B[1;33m,\u001B[0m\u001B[1;34m\"u2\"\u001B[0m\u001B[1;33m,\u001B[0m\u001B[1;34m\"u1\"\u001B[0m\u001B[1;33m]\u001B[0m\u001B[1;33m:\u001B[0m\u001B[1;33m\u001B[0m\u001B[1;33m\u001B[0m\u001B[0m\n\u001B[0;32m    112\u001B[0m             \u001B[0mprint\u001B[0m\u001B[1;33m(\u001B[0m\u001B[1;34m\"Building animation...\"\u001B[0m\u001B[1;33m)\u001B[0m\u001B[1;33m\u001B[0m\u001B[1;33m\u001B[0m\u001B[0m\n\u001B[1;32m--> 113\u001B[1;33m             \u001B[0mcreate_images\u001B[0m\u001B[1;33m(\u001B[0m\u001B[0mgate\u001B[0m\u001B[1;33m,\u001B[0m\u001B[0mtheta\u001B[0m\u001B[1;33m,\u001B[0m\u001B[0mphi\u001B[0m\u001B[1;33m,\u001B[0m\u001B[0mlam\u001B[0m\u001B[1;33m)\u001B[0m\u001B[1;33m\u001B[0m\u001B[1;33m\u001B[0m\u001B[0m\n\u001B[0m\u001B[0;32m    114\u001B[0m             \u001B[0msave_gif\u001B[0m\u001B[1;33m(\u001B[0m\u001B[0mgate\u001B[0m\u001B[1;33m)\u001B[0m\u001B[1;33m\u001B[0m\u001B[1;33m\u001B[0m\u001B[0m\n\u001B[0;32m    115\u001B[0m         \u001B[1;32melse\u001B[0m\u001B[1;33m:\u001B[0m\u001B[1;33m\u001B[0m\u001B[1;33m\u001B[0m\u001B[0m\n",
      "\u001B[1;32m~\\AppData\\Local\\Temp\\ipykernel_15500\\597040036.py\u001B[0m in \u001B[0;36mcreate_images\u001B[1;34m(gate, theta, phi, lam)\u001B[0m\n\u001B[0;32m     61\u001B[0m         \u001B[1;32melse\u001B[0m\u001B[1;33m:\u001B[0m\u001B[1;33m\u001B[0m\u001B[1;33m\u001B[0m\u001B[0m\n\u001B[0;32m     62\u001B[0m             \u001B[0mqc\u001B[0m\u001B[1;33m.\u001B[0m\u001B[0mh\u001B[0m\u001B[1;33m(\u001B[0m\u001B[1;36m0\u001B[0m\u001B[1;33m)\u001B[0m\u001B[1;33m\u001B[0m\u001B[1;33m\u001B[0m\u001B[0m\n\u001B[1;32m---> 63\u001B[1;33m             \u001B[0mqc\u001B[0m\u001B[1;33m.\u001B[0m\u001B[0mu1\u001B[0m\u001B[1;33m(\u001B[0m\u001B[0mphi\u001B[0m\u001B[1;33m,\u001B[0m\u001B[1;36m0\u001B[0m\u001B[1;33m)\u001B[0m\u001B[1;33m\u001B[0m\u001B[1;33m\u001B[0m\u001B[0m\n\u001B[0m\u001B[0;32m     64\u001B[0m             \u001B[0mtitle\u001B[0m\u001B[1;33m=\u001B[0m\u001B[1;34m\"U1: \\u03D5 = \"\u001B[0m\u001B[1;33m+\u001B[0m\u001B[0mstr\u001B[0m\u001B[1;33m(\u001B[0m\u001B[0mround\u001B[0m\u001B[1;33m(\u001B[0m\u001B[0mphi\u001B[0m\u001B[1;33m,\u001B[0m\u001B[1;36m2\u001B[0m\u001B[1;33m)\u001B[0m\u001B[1;33m)\u001B[0m\u001B[1;33m\u001B[0m\u001B[1;33m\u001B[0m\u001B[0m\n\u001B[0;32m     65\u001B[0m \u001B[1;33m\u001B[0m\u001B[0m\n",
      "\u001B[1;31mAttributeError\u001B[0m: 'QuantumCircuit' object has no attribute 'u1'"
     ]
    }
   ],
   "source": [
    "#!/usr/bin/env python3\n",
    "# -*- coding: utf-8 -*-\n",
    "\"\"\"\n",
    "Created Nov 2020\n",
    "\n",
    "@author: hassi\n",
    "\"\"\"\n",
    "\n",
    "\n",
    "from qiskit import QuantumCircuit, execute, Aer\n",
    "\n",
    "from qiskit.visualization import plot_bloch_multivector, plot_state_qsphere\n",
    "\n",
    "# Import image and file processing tools\n",
    "from PIL import Image\n",
    "import os\n",
    "\n",
    "print(\"Ch 6: Animating the U gates\")\n",
    "print(\"--------------------------\")\n",
    "\n",
    "# This program requires an /images directory at the same location as the script.\n",
    "dirName = 'images'\n",
    "print(\"Checking if /images directory exists...\")\n",
    "if not os.path.exists(dirName):\n",
    "    os.mkdir(dirName)\n",
    "    print(\"Directory\" , dirName ,  \"created \")\n",
    "else:\n",
    "    print(\"Directory\" , dirName ,  \"exists\")\n",
    "\n",
    "\n",
    "def get_psi(circuit):\n",
    "    global psi\n",
    "    backend = Aer.get_backend('statevector_simulator')\n",
    "    result = execute(circuit, backend).result()\n",
    "    psi = result.get_statevector(circuit)\n",
    "    return(psi)\n",
    "\n",
    "def create_images(gate,theta=0.0,phi=0.0,lam=0.0):\n",
    "    # Set the loop parameters\n",
    "    steps=20.0\n",
    "    theta_steps=theta/steps\n",
    "    phi_steps=phi/steps\n",
    "    lam_steps=lam/steps\n",
    "    n, theta,phi,lam=0,0.0,0.0,0.0\n",
    "    # Create image and animation tools\n",
    "    global q_images, b_images, q_filename, b_filename\n",
    "    b_images=[]\n",
    "    q_images=[]\n",
    "    b_filename=\"animated_qubit\"\n",
    "    q_filename=\"animated_qsphere\"\n",
    "\n",
    "    # The image creation loop\n",
    "    while n < steps+1:\n",
    "        qc=QuantumCircuit(1)\n",
    "        if gate==\"u3\":\n",
    "            qc.u3(theta,phi,lam,0)\n",
    "            title=\"U3: \\u03B8 = \"+str(round(theta,2))+\" \\u03D5 = \"+str(round(phi,2))+\" \\u03BB = \"+str(round(lam,2))\n",
    "        elif gate==\"u2\":\n",
    "            qc.u2(phi,lam,0)\n",
    "            title=\"U2: \\u03D5 = \"+str(round(phi,2))+\" \\u03BB = \"+str(round(lam,2))\n",
    "        else:\n",
    "            qc.h(0)\n",
    "            qc.u1(phi,0)\n",
    "            title=\"U1: \\u03D5 = \"+str(round(phi,2))\n",
    "\n",
    "        # Get the statevector of the qubit\n",
    "        # Create Bloch sphere images\n",
    "        plot_bloch_multivector(get_psi(qc),title).savefig('images/bloch'+str(n)+'.png')\n",
    "        imb = Image.open('images/bloch'+str(n)+'.png')\n",
    "        b_images.append(imb)\n",
    "        # Create Q sphere images\n",
    "        plot_state_qsphere(psi).savefig('images/qsphere'+str(n)+'.png')\n",
    "        imq = Image.open('images/qsphere'+str(n)+'.png')\n",
    "        q_images.append(imq)\n",
    "        # Rev our loop\n",
    "        n+=1\n",
    "        theta+=theta_steps\n",
    "        phi+=phi_steps\n",
    "        lam+=lam_steps\n",
    "\n",
    "# Create and save the animated GIFs\n",
    "def save_gif(gate):\n",
    "    duration=100\n",
    "    b_images[0].save(gate+'_'+b_filename+'.gif',\n",
    "               save_all=True,\n",
    "               append_images=b_images[1:],\n",
    "               duration=duration,\n",
    "               loop=0)\n",
    "    q_images[0].save(gate+'_'+q_filename+'.gif',\n",
    "               save_all=True,\n",
    "               append_images=q_images[1:],\n",
    "               duration=duration,\n",
    "               loop=0)\n",
    "    print(\"Bloch sphere animation saved as: \\n\"+os.getcwd()+\"/\"+gate+\"_\"+b_filename+\".gif\"+\"\\nQsphere animation saved as: \\n\"+os.getcwd()+\"/\"+gate+\"_\"+q_filename+\".gif\")\n",
    "\n",
    "# Main loop\n",
    "def main():\n",
    "    global gate\n",
    "    gate=\"\"\n",
    "    theta=0.0\n",
    "    phi=0.0\n",
    "    lam=0.0\n",
    "    while gate !=\"exit\":\n",
    "        gate=input(\"Enter u1, u2, or u3:\\n\")\n",
    "        if gate ==\"u3\":\n",
    "            theta=float(input(\"Enter \\u03B8:\\n\"))\n",
    "        if gate in [\"u3\",\"u2\",\"u1\"]:\n",
    "            phi=float(input(\"Enter \\u03D5:\\n\"))\n",
    "        if gate in [\"u3\",\"u2\"]:\n",
    "            lam=float(input(\"Enter \\u03BB:\\n\"))\n",
    "        if gate in [\"u3\",\"u2\",\"u1\"]:\n",
    "            print(\"Building animation...\")\n",
    "            create_images(gate,theta,phi,lam)\n",
    "            save_gif(gate)\n",
    "        else:\n",
    "            print(\"Not a valid gate, try again...\")\n",
    "\n",
    "if __name__ == '__main__':\n",
    "    main()"
   ]
  },
  {
   "cell_type": "code",
   "execution_count": 4,
   "outputs": [],
   "source": [],
   "metadata": {
    "collapsed": false,
    "ExecuteTime": {
     "end_time": "2024-11-07T07:34:53.361550300Z",
     "start_time": "2024-11-07T07:34:53.285955800Z"
    }
   }
  },
  {
   "cell_type": "code",
   "execution_count": null,
   "outputs": [],
   "source": [],
   "metadata": {
    "collapsed": false
   }
  }
 ],
 "metadata": {
  "kernelspec": {
   "display_name": "Python 3",
   "language": "python",
   "name": "python3"
  },
  "language_info": {
   "codemirror_mode": {
    "name": "ipython",
    "version": 2
   },
   "file_extension": ".py",
   "mimetype": "text/x-python",
   "name": "python",
   "nbconvert_exporter": "python",
   "pygments_lexer": "ipython2",
   "version": "2.7.6"
  }
 },
 "nbformat": 4,
 "nbformat_minor": 0
}
