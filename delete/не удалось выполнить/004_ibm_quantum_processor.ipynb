{
 "cells": [
  {
   "cell_type": "code",
   "execution_count": 1,
   "outputs": [],
   "source": [
    "from qiskit import QuantumCircuit, transpile, Aer, execute\n",
    "from qiskit.visualization import plot_histogram\n",
    "import matplotlib.pyplot as plt"
   ],
   "metadata": {
    "collapsed": false
   }
  },
  {
   "cell_type": "code",
   "execution_count": 4,
   "outputs": [
    {
     "ename": "IBMQAccountCredentialsNotFound",
     "evalue": "'No IBM Quantum Experience credentials found.'",
     "output_type": "error",
     "traceback": [
      "\u001B[1;31m---------------------------------------------------------------------------\u001B[0m",
      "\u001B[1;31mIBMQAccountCredentialsNotFound\u001B[0m            Traceback (most recent call last)",
      "\u001B[1;32m~\\AppData\\Local\\Temp\\ipykernel_48376\\3287832215.py\u001B[0m in \u001B[0;36m<module>\u001B[1;34m\u001B[0m\n\u001B[0;32m      5\u001B[0m \u001B[1;33m\u001B[0m\u001B[0m\n\u001B[0;32m      6\u001B[0m \u001B[1;31m# Загружаем аккаунт IBMQ (предварительно добавьте токен с помощью IBMQ.save_account('ВАШ_ТОКЕН'))\u001B[0m\u001B[1;33m\u001B[0m\u001B[1;33m\u001B[0m\u001B[1;33m\u001B[0m\u001B[0m\n\u001B[1;32m----> 7\u001B[1;33m \u001B[0mIBMQ\u001B[0m\u001B[1;33m.\u001B[0m\u001B[0mload_account\u001B[0m\u001B[1;33m(\u001B[0m\u001B[1;33m)\u001B[0m\u001B[1;33m\u001B[0m\u001B[1;33m\u001B[0m\u001B[0m\n\u001B[0m\u001B[0;32m      8\u001B[0m \u001B[0mprovider\u001B[0m \u001B[1;33m=\u001B[0m \u001B[0mIBMQ\u001B[0m\u001B[1;33m.\u001B[0m\u001B[0mget_provider\u001B[0m\u001B[1;33m(\u001B[0m\u001B[0mhub\u001B[0m\u001B[1;33m=\u001B[0m\u001B[1;34m'ibm-q'\u001B[0m\u001B[1;33m)\u001B[0m\u001B[1;33m\u001B[0m\u001B[1;33m\u001B[0m\u001B[0m\n\u001B[0;32m      9\u001B[0m \u001B[1;33m\u001B[0m\u001B[0m\n",
      "\u001B[1;32mD:\\_petrsu\\quantum_computing\\venv\\lib\\site-packages\\qiskit\\providers\\ibmq\\ibmqfactory.py\u001B[0m in \u001B[0;36mload_account\u001B[1;34m(self)\u001B[0m\n\u001B[0;32m    166\u001B[0m         \u001B[1;32mif\u001B[0m \u001B[1;32mnot\u001B[0m \u001B[0mcredentials_list\u001B[0m\u001B[1;33m:\u001B[0m\u001B[1;33m\u001B[0m\u001B[1;33m\u001B[0m\u001B[0m\n\u001B[0;32m    167\u001B[0m             raise IBMQAccountCredentialsNotFound(\n\u001B[1;32m--> 168\u001B[1;33m                 'No IBM Quantum Experience credentials found.')\n\u001B[0m\u001B[0;32m    169\u001B[0m \u001B[1;33m\u001B[0m\u001B[0m\n\u001B[0;32m    170\u001B[0m         \u001B[1;32mif\u001B[0m \u001B[0mlen\u001B[0m\u001B[1;33m(\u001B[0m\u001B[0mcredentials_list\u001B[0m\u001B[1;33m)\u001B[0m \u001B[1;33m>\u001B[0m \u001B[1;36m1\u001B[0m\u001B[1;33m:\u001B[0m\u001B[1;33m\u001B[0m\u001B[1;33m\u001B[0m\u001B[0m\n",
      "\u001B[1;31mIBMQAccountCredentialsNotFound\u001B[0m: 'No IBM Quantum Experience credentials found.'"
     ]
    }
   ],
   "source": [
    "# Импортируем необходимые библиотеки\n",
    "from qiskit import QuantumCircuit, Aer, execute, IBMQ\n",
    "from qiskit.visualization import plot_histogram\n",
    "import matplotlib.pyplot as plt\n",
    "\n",
    "# Загружаем аккаунт IBMQ (предварительно добавьте токен с помощью IBMQ.save_account('ВАШ_ТОКЕН'))\n",
    "IBMQ.load_account()\n",
    "provider = IBMQ.get_provider(hub='ibm-q')\n",
    "\n",
    "# Создаем квантовую схему с одним кубитом и одним классическим битом\n",
    "qc = QuantumCircuit(1, 1)\n",
    "\n",
    "# Применяем Hadamard для перевода кубита в состояние суперпозиции\n",
    "qc.h(0)\n",
    "\n",
    "# Добавляем измерение\n",
    "qc.measure(0, 0)\n",
    "\n",
    "# Выбираем доступный квантовый процессор\n",
    "backend = provider.get_backend('ibmq_quito')\n",
    "\n",
    "# Выполняем схему на реальном устройстве\n",
    "job = execute(qc, backend, shots=1024)\n",
    "print(\"Ожидание завершения работы...\")\n",
    "job_monitor(job)  # Показывает статус выполнения задания\n",
    "\n",
    "# Получаем результаты измерения\n",
    "result = job.result()\n",
    "counts = result.get_counts(qc)\n",
    "print(\"Результаты измерения на реальном квантовом процессоре:\", counts)\n",
    "\n",
    "# Визуализируем результаты\n",
    "plt.figure(figsize=(8, 6))  # Устанавливаем размер графика\n",
    "plot_histogram(counts)  # Создаем гистограмму на основе полученных результатов\n",
    "plt.title('Результаты измерения на реальном квантовом процессоре')  # Заголовок графика\n",
    "plt.xlabel('Измеренные состояния')  # Подпись оси X\n",
    "plt.ylabel('Количество')  # Подпись оси Y\n",
    "plt.grid(axis='y', linestyle='--', alpha=0.7)  # Добавляем сетку по оси Y\n",
    "plt.show()  # Отображаем график\n"
   ],
   "metadata": {
    "collapsed": false,
    "ExecuteTime": {
     "end_time": "2024-10-31T10:38:27.588460100Z",
     "start_time": "2024-10-31T10:38:27.440130400Z"
    }
   }
  },
  {
   "cell_type": "code",
   "execution_count": null,
   "outputs": [],
   "source": [],
   "metadata": {
    "collapsed": false
   }
  }
 ],
 "metadata": {
  "kernelspec": {
   "display_name": "Python 3",
   "language": "python",
   "name": "python3"
  },
  "language_info": {
   "codemirror_mode": {
    "name": "ipython",
    "version": 2
   },
   "file_extension": ".py",
   "mimetype": "text/x-python",
   "name": "python",
   "nbconvert_exporter": "python",
   "pygments_lexer": "ipython2",
   "version": "2.7.6"
  }
 },
 "nbformat": 4,
 "nbformat_minor": 0
}
