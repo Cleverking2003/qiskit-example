{
 "cells": [
  {
   "cell_type": "code",
   "execution_count": 10,
   "outputs": [],
   "source": [
    "import numpy as np\n",
    "from qiskit.quantum_info import Statevector, Operator\n",
    "from scipy.linalg import expm"
   ],
   "metadata": {
    "collapsed": false,
    "ExecuteTime": {
     "end_time": "2024-10-31T10:19:07.256262800Z",
     "start_time": "2024-10-31T10:19:07.226181800Z"
    }
   }
  },
  {
   "cell_type": "code",
   "execution_count": 11,
   "metadata": {
    "collapsed": true,
    "ExecuteTime": {
     "end_time": "2024-10-31T10:19:08.659198800Z",
     "start_time": "2024-10-31T10:19:08.629644200Z"
    }
   },
   "outputs": [
    {
     "name": "stdout",
     "output_type": "stream",
     "text": [
      "Эволюционировавшее состояние: [ 0.29192658-0.45464871j -0.70807342-0.45464871j  0.        +0.j\n",
      "  0.        +0.j        ]\n"
     ]
    }
   ],
   "source": [
    "# Определяем гамильтониан H = Z + X для двух кубитов\n",
    "I = np.eye(2)  # Единичная матрица\n",
    "Z = np.array([[1, 0], [0, -1]])  # Оператор Паули Z\n",
    "X = np.array([[0, 1], [1, 0]])  # Оператор Паули X\n",
    "\n",
    "# Гамильтониан H\n",
    "H = np.kron(Z, I) + np.kron(I, X)  # H = Z ⊗ I + I ⊗ X\n",
    "\n",
    "# Начальное состояние |00>\n",
    "initial_state = Statevector([1, 0, 0, 0])  # Состояние |00> (два кубита)\n",
    "\n",
    "# Время эволюции\n",
    "t = 1  # Время эволюции\n",
    "\n",
    "# Эволюция состояния через e^(-iHt)\n",
    "# Создаем унитарный оператор\n",
    "U_t = expm(-1j * H * t)  # Унитарный оператор\n",
    "\n",
    "# Эволюция состояния\n",
    "evolved_state = U_t @ initial_state.data  # Эволюционируем состояние\n",
    "\n",
    "print(\"Эволюционировавшее состояние:\", evolved_state)\n"
   ]
  },
  {
   "cell_type": "code",
   "execution_count": null,
   "outputs": [],
   "source": [],
   "metadata": {
    "collapsed": false
   }
  }
 ],
 "metadata": {
  "kernelspec": {
   "display_name": "Python 3",
   "language": "python",
   "name": "python3"
  },
  "language_info": {
   "codemirror_mode": {
    "name": "ipython",
    "version": 2
   },
   "file_extension": ".py",
   "mimetype": "text/x-python",
   "name": "python",
   "nbconvert_exporter": "python",
   "pygments_lexer": "ipython2",
   "version": "2.7.6"
  }
 },
 "nbformat": 4,
 "nbformat_minor": 0
}
