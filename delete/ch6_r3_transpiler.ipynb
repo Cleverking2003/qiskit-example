{
 "cells": [
  {
   "cell_type": "code",
   "execution_count": 1,
   "metadata": {
    "collapsed": true,
    "ExecuteTime": {
     "end_time": "2024-11-07T07:35:41.354518200Z",
     "start_time": "2024-11-07T07:35:39.275105800Z"
    }
   },
   "outputs": [
    {
     "name": "stdout",
     "output_type": "stream",
     "text": [
      "Loading Qiskit...\n",
      "Getting provider...\n"
     ]
    },
    {
     "name": "stderr",
     "output_type": "stream",
     "text": [
      "D:\\_petrsu\\quantum_computing\\venv\\lib\\site-packages\\ipykernel_launcher.py:21: DeprecationWarning: The qiskit.IBMQ entrypoint and the qiskit-ibmq-provider package (accessible from 'qiskit.providers.ibmq`) are deprecated and will be removed in a future release. Instead you should use the qiskit-ibm-provider package which is accessible from 'qiskit_ibm_provider'. You can install it with 'pip install qiskit_ibm_provider'. Just replace 'qiskit.IBMQ' with 'qiskit_ibm_provider.IBMProvider'\n"
     ]
    },
    {
     "ename": "IBMQAccountCredentialsNotFound",
     "evalue": "'No IBM Quantum Experience credentials found.'",
     "output_type": "error",
     "traceback": [
      "\u001B[1;31m---------------------------------------------------------------------------\u001B[0m",
      "\u001B[1;31mIBMQAccountCredentialsNotFound\u001B[0m            Traceback (most recent call last)",
      "\u001B[1;32m~\\AppData\\Local\\Temp\\ipykernel_44872\\1620222429.py\u001B[0m in \u001B[0;36m<module>\u001B[1;34m\u001B[0m\n\u001B[0;32m     20\u001B[0m \u001B[0mprint\u001B[0m\u001B[1;33m(\u001B[0m\u001B[1;34m\"Getting provider...\"\u001B[0m\u001B[1;33m)\u001B[0m\u001B[1;33m\u001B[0m\u001B[1;33m\u001B[0m\u001B[0m\n\u001B[0;32m     21\u001B[0m \u001B[1;32mif\u001B[0m \u001B[1;32mnot\u001B[0m \u001B[0mIBMQ\u001B[0m\u001B[1;33m.\u001B[0m\u001B[0mactive_account\u001B[0m\u001B[1;33m(\u001B[0m\u001B[1;33m)\u001B[0m\u001B[1;33m:\u001B[0m\u001B[1;33m\u001B[0m\u001B[1;33m\u001B[0m\u001B[0m\n\u001B[1;32m---> 22\u001B[1;33m     \u001B[0mIBMQ\u001B[0m\u001B[1;33m.\u001B[0m\u001B[0mload_account\u001B[0m\u001B[1;33m(\u001B[0m\u001B[1;33m)\u001B[0m\u001B[1;33m\u001B[0m\u001B[1;33m\u001B[0m\u001B[0m\n\u001B[0m\u001B[0;32m     23\u001B[0m \u001B[0mprovider\u001B[0m \u001B[1;33m=\u001B[0m \u001B[0mIBMQ\u001B[0m\u001B[1;33m.\u001B[0m\u001B[0mget_provider\u001B[0m\u001B[1;33m(\u001B[0m\u001B[1;33m)\u001B[0m\u001B[1;33m\u001B[0m\u001B[1;33m\u001B[0m\u001B[0m\n\u001B[0;32m     24\u001B[0m \u001B[1;33m\u001B[0m\u001B[0m\n",
      "\u001B[1;32mD:\\_petrsu\\quantum_computing\\venv\\lib\\site-packages\\qiskit\\providers\\ibmq\\ibmqfactory.py\u001B[0m in \u001B[0;36mload_account\u001B[1;34m(self)\u001B[0m\n\u001B[0;32m    166\u001B[0m         \u001B[1;32mif\u001B[0m \u001B[1;32mnot\u001B[0m \u001B[0mcredentials_list\u001B[0m\u001B[1;33m:\u001B[0m\u001B[1;33m\u001B[0m\u001B[1;33m\u001B[0m\u001B[0m\n\u001B[0;32m    167\u001B[0m             raise IBMQAccountCredentialsNotFound(\n\u001B[1;32m--> 168\u001B[1;33m                 'No IBM Quantum Experience credentials found.')\n\u001B[0m\u001B[0;32m    169\u001B[0m \u001B[1;33m\u001B[0m\u001B[0m\n\u001B[0;32m    170\u001B[0m         \u001B[1;32mif\u001B[0m \u001B[0mlen\u001B[0m\u001B[1;33m(\u001B[0m\u001B[0mcredentials_list\u001B[0m\u001B[1;33m)\u001B[0m \u001B[1;33m>\u001B[0m \u001B[1;36m1\u001B[0m\u001B[1;33m:\u001B[0m\u001B[1;33m\u001B[0m\u001B[1;33m\u001B[0m\u001B[0m\n",
      "\u001B[1;31mIBMQAccountCredentialsNotFound\u001B[0m: 'No IBM Quantum Experience credentials found.'"
     ]
    }
   ],
   "source": [
    "#!/usr/bin/env python3\n",
    "# -*- coding: utf-8 -*-\n",
    "\"\"\"\n",
    "Created Nov 2020\n",
    "\n",
    "@author: hassi\n",
    "\"\"\"\n",
    "\n",
    "#!/usr/bin/env python\n",
    "# coding: utf-8\n",
    "\n",
    "print(\"Loading Qiskit...\")\n",
    "from qiskit import QuantumCircuit, IBMQ\n",
    "from qiskit.compiler import transpile\n",
    "from qiskit.providers.ibmq import least_busy\n",
    "\n",
    "from IPython.core.display import display\n",
    "\n",
    "# Load account and find an available 5-qubit backend\n",
    "print(\"Getting provider...\")\n",
    "if not IBMQ.active_account():\n",
    "    IBMQ.load_account()\n",
    "provider = IBMQ.get_provider()\n",
    "\n",
    "print(\"Getting backend...\")\n",
    "backend = least_busy(provider.backends(n_qubits=5, operational=True, simulator=False))\n",
    "\n",
    "# Uncomment to set the backend to a simulator\n",
    "#backend = provider.get_backend('ibmq_qasm_simulator')\n",
    "\n",
    "print(\"Ch 6: Transpiling circuits\")\n",
    "print(\"--------------------------\")\n",
    "\n",
    "# Print the basis gates and coupling map for the selected backend\n",
    "print(\"Basis gates for:\", backend)\n",
    "print(backend.configuration().basis_gates)\n",
    "print(\"Coupling map for:\", backend)\n",
    "print(backend.configuration().coupling_map)\n",
    "\n",
    "def build_circuit(choice):\n",
    "    # Create the circuit\n",
    "    qc = QuantumCircuit(5,5)\n",
    "\n",
    "    if choice==\"1\":\n",
    "        # Simple X\n",
    "        qc.x(0)\n",
    "    elif choice==\"2\":\n",
    "        # Add H\n",
    "        qc.x(0)\n",
    "        qc.h(0)\n",
    "    elif choice==\"3\":\n",
    "        # H + Barrier\n",
    "        qc.x(0)\n",
    "        qc.barrier(0)\n",
    "        qc.h(0)\n",
    "    elif choice==\"4\":\n",
    "        # Controlled Y (CY)\n",
    "        qc.cy(0,1)\n",
    "    elif choice==\"5\":\n",
    "        # Non-conforming CX\n",
    "        qc.cx(0,4)\n",
    "    else:\n",
    "        # Multi qubit circuit\n",
    "        qc.h(0)\n",
    "        qc.h(3)\n",
    "        qc.cx(0,4)\n",
    "        qc.cswap(3,1,2)\n",
    "\n",
    "    # Show measurement targets\n",
    "    #qc.barrier([0,1,2,3,4])\n",
    "    #qc.measure([0,1,2,3,4],[0,1,2,3,4])\n",
    "\n",
    "    return(qc)\n",
    "\n",
    "\n",
    "\n",
    "def main():\n",
    "    choice=\"1\"\n",
    "    while choice !=\"0\":\n",
    "        choice=input(\"Pick a circuit: \\n1. Simple X\\n2. Add H\\n3. H + Barrier\\n4. Controlled-Y\\n5. Non-conforming CX\\n6. Multi-gate\\n\")\n",
    "        qc=build_circuit(choice)\n",
    "        # Create the transpiled circuit\n",
    "        trans_qc = transpile(qc, backend)\n",
    "\n",
    "        # Print the original and transpiled circuits\n",
    "        print(\"Circuit:\")\n",
    "        display(qc.draw())\n",
    "        print(\"Transpiled circuit:\")\n",
    "        display(trans_qc.draw())\n",
    "\n",
    "        # Print the original and transpiled circuit depths\n",
    "        print(\"Circuit depth:\")\n",
    "        print(\"---------------\")\n",
    "        print(\"Circuit:\", qc.depth())\n",
    "        print(\"Transpiled circuit:\", trans_qc.depth())\n",
    "\n",
    "        # Print the original and transpiled circuit sizes\n",
    "        print(\"\\nCircuit size:\")\n",
    "        print(\"---------------\")\n",
    "        print(\"Circuit:\", qc.size())\n",
    "        print(\"Transpiled circuit:\", trans_qc.size())\n",
    "\n",
    "if __name__ == '__main__':\n",
    "    main()"
   ]
  },
  {
   "cell_type": "code",
   "execution_count": null,
   "outputs": [],
   "source": [],
   "metadata": {
    "collapsed": false
   }
  }
 ],
 "metadata": {
  "kernelspec": {
   "display_name": "Python 3",
   "language": "python",
   "name": "python3"
  },
  "language_info": {
   "codemirror_mode": {
    "name": "ipython",
    "version": 2
   },
   "file_extension": ".py",
   "mimetype": "text/x-python",
   "name": "python",
   "nbconvert_exporter": "python",
   "pygments_lexer": "ipython2",
   "version": "2.7.6"
  }
 },
 "nbformat": 4,
 "nbformat_minor": 0
}
