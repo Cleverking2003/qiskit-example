{
 "cells": [
  {
   "cell_type": "code",
   "execution_count": null,
   "outputs": [],
   "source": [
    "from qiskit_machine_learning.neural_networks import TwoLayerQNN\n",
    "from qiskit.circuit.library import ZZFeatureMap, RealAmplitudes\n",
    "from qiskit_machine_learning.algorithms import NeuralNetworkClassifier\n",
    "from sklearn.datasets import make_classification\n",
    "from sklearn.model_selection import train_test_split\n",
    "from sklearn.preprocessing import MinMaxScaler"
   ],
   "metadata": {
    "collapsed": false
   }
  },
  {
   "cell_type": "code",
   "execution_count": null,
   "metadata": {
    "collapsed": true
   },
   "outputs": [],
   "source": [
    "# Подготовка данных\n",
    "X, y = make_classification(n_samples=100, n_features=2, n_classes=2)\n",
    "X = MinMaxScaler().fit_transform(X)  # Масштабируем данные\n",
    "X_train, X_test, y_train, y_test = train_test_split(X, y, test_size=0.2)\n",
    "\n",
    "# Определяем квантовую нейронную сеть\n",
    "feature_map = ZZFeatureMap(feature_dimension=2, reps=1)\n",
    "ansatz = RealAmplitudes(num_qubits=2, reps=1)\n",
    "qnn = TwoLayerQNN(num_qubits=2, feature_map=feature_map, ansatz=ansatz, quantum_instance=Aer.get_backend('aer_simulator'))\n",
    "\n",
    "# Квантовый классификатор\n",
    "classifier = NeuralNetworkClassifier(qnn)\n",
    "classifier.fit(X_train, y_train)\n",
    "\n",
    "# Оценка модели\n",
    "accuracy = classifier.score(X_test, y_test)\n",
    "print(\"Точность квантового классификатора:\", accuracy)\n"
   ]
  }
 ],
 "metadata": {
  "kernelspec": {
   "display_name": "Python 3",
   "language": "python",
   "name": "python3"
  },
  "language_info": {
   "codemirror_mode": {
    "name": "ipython",
    "version": 2
   },
   "file_extension": ".py",
   "mimetype": "text/x-python",
   "name": "python",
   "nbconvert_exporter": "python",
   "pygments_lexer": "ipython2",
   "version": "2.7.6"
  }
 },
 "nbformat": 4,
 "nbformat_minor": 0
}
