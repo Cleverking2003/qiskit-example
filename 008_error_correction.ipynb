{
 "cells": [
  {
   "cell_type": "code",
   "execution_count": null,
   "outputs": [],
   "source": [
    "from qiskit import QuantumCircuit, transpile, Aer, execute\n",
    "from qiskit.visualization import plot_histogram\n",
    "import matplotlib.pyplot as plt\n",
    "from qiskit.circuit.library import GroverOperator\n",
    "from qiskit.algorithms import Shor\n",
    "from qiskit.utils import QuantumInstance"
   ],
   "metadata": {
    "collapsed": false
   }
  },
  {
   "cell_type": "code",
   "execution_count": null,
   "metadata": {
    "collapsed": true
   },
   "outputs": [],
   "source": [
    "qc = QuantumCircuit(3, 3)\n",
    "\n",
    "# Закодируем кубит состояния |1⟩ на трех кубитах\n",
    "qc.x(0)  # Переводим первый кубит в |1>\n",
    "qc.cx(0, 1)\n",
    "qc.cx(0, 2)\n",
    "\n",
    "# Допустим, произошла ошибка на втором кубите\n",
    "qc.x(1)\n",
    "\n",
    "# Декодирование и обнаружение ошибки\n",
    "qc.cx(0, 1)\n",
    "qc.cx(0, 2)\n",
    "qc.ccx(1, 2, 0)\n",
    "\n",
    "# Измеряем для обнаружения ошибки\n",
    "qc.measure([0, 1, 2], [0, 1, 2])\n",
    "\n",
    "# Запускаем на симуляторе\n",
    "job = execute(qc, simulator, shots=1024)\n",
    "result = job.result()\n",
    "counts = result.get_counts(qc)\n",
    "print(\"Результаты для кода коррекции ошибок:\", counts)\n",
    "plot_histogram(counts)\n",
    "plt.show()\n"
   ]
  }
 ],
 "metadata": {
  "kernelspec": {
   "display_name": "Python 3",
   "language": "python",
   "name": "python3"
  },
  "language_info": {
   "codemirror_mode": {
    "name": "ipython",
    "version": 2
   },
   "file_extension": ".py",
   "mimetype": "text/x-python",
   "name": "python",
   "nbconvert_exporter": "python",
   "pygments_lexer": "ipython2",
   "version": "2.7.6"
  }
 },
 "nbformat": 4,
 "nbformat_minor": 0
}
